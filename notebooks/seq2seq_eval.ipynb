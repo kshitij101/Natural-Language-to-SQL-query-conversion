{
 "cells": [
  {
   "cell_type": "code",
   "execution_count": 1,
   "metadata": {},
   "outputs": [],
   "source": [
    "import tensorflow as tf\n",
    "\n",
    "import matplotlib.pyplot as plt\n",
    "import matplotlib.ticker as ticker\n",
    "from sklearn.model_selection import train_test_split\n",
    "from seqeval.metrics import accuracy_score\n",
    "from seqeval.metrics import classification_report\n",
    "from seqeval.metrics import f1_score\n",
    "from seqeval.metrics import recall_score\n",
    "from nltk import word_tokenize\n",
    "\n",
    "\n",
    "import unicodedata\n",
    "import re\n",
    "import numpy as np\n",
    "import os\n",
    "import io\n",
    "import time\n",
    "import json\n",
    "import pickle"
   ]
  },
  {
   "cell_type": "code",
   "execution_count": 2,
   "metadata": {},
   "outputs": [],
   "source": [
    "physical_devices = tf.config.list_physical_devices('GPU')\n",
    "tf.config.experimental.set_memory_growth(physical_devices[0], enable=True)"
   ]
  },
  {
   "cell_type": "code",
   "execution_count": 3,
   "metadata": {},
   "outputs": [],
   "source": [
    "path_to_file = \"C:\\\\Kshitij\\\\DEV\\\\Datasets\\\\spider\\\\train_spider.json\""
   ]
  },
  {
   "cell_type": "code",
   "execution_count": 4,
   "metadata": {},
   "outputs": [],
   "source": [
    "# Converts the unicode file to ascii\n",
    "def unicode_to_ascii(s):\n",
    "  return ''.join(c for c in unicodedata.normalize('NFD', s)\n",
    "      if unicodedata.category(c) != 'Mn')\n",
    "\n",
    "\n",
    "def preprocess_sentence(w):\n",
    "  w = unicode_to_ascii(w.lower().strip())\n",
    "  # creating a space between a word and the punctuation following it\n",
    "  # eg: \"he is a boy.\" => \"he is a boy .\"\n",
    "  # Reference:- https://stackoverflow.com/questions/3645931/python-padding-punctuation-with-white-spaces-keeping-punctuation\n",
    "  w = re.sub(r\"([?.!,¿])\", r\" \\1 \", w)\n",
    "  w = re.sub(r'[\" \"]+', \" \", w)\n",
    "\n",
    "  # replacing everything with space except (a-z, A-Z, \".\", \"?\", \"!\", \",\")\n",
    "  #w = re.sub(r\"[^a-zA-Z?.!,¿]+\", \" \", w)\n",
    "  w = w.strip()\n",
    "\n",
    "  # adding a start and an end token to the sentence\n",
    "  # so that the model know when to start and stop predicting.\n",
    "  w = '<start> ' + w + ' <end>'\n",
    "  return w"
   ]
  },
  {
   "cell_type": "code",
   "execution_count": 5,
   "metadata": {},
   "outputs": [],
   "source": [
    "def create_dataset(path_to_file):\n",
    "    queries =[]\n",
    "    questions = []\n",
    "    train_data = []\n",
    "    train_labels = []\n",
    "    \n",
    "    with open(path_to_file, 'r') as f:\n",
    "        datastore = json.load(f)\n",
    "\n",
    "    for i in range(len(datastore)):\n",
    "        queries.append(preprocess_sentence(datastore[i]['query']))\n",
    "        questions.append(preprocess_sentence(datastore[i]['question']))\n",
    "        \n",
    "    with open(\"C:\\\\Kshitij\\\\DEV\\\\Datasets\\\\spider\\\\dev.json\", 'r') as f:\n",
    "        datastore = json.load(f)\n",
    "\n",
    "    for i in range(len(datastore)):\n",
    "        queries.append(preprocess_sentence(datastore[i]['query']))\n",
    "        questions.append(preprocess_sentence(datastore[i]['question']))\n",
    "    \n",
    "#     dbfile = open('C:\\\\Kshitij\\\\DEV\\\\Jupyter\\\\EVAL\\\\analysis\\\\questions_wiki_train.pickle', 'rb')      \n",
    "#     q1 = pickle.load(dbfile) \n",
    "#     dbfile.close()\n",
    "\n",
    "#     dbfile = open('C:\\\\Kshitij\\\\DEV\\\\Jupyter\\\\EVAL\\\\analysis\\\\queries_wiki_train.pickle', 'rb')      \n",
    "#     q2 = pickle.load(dbfile) \n",
    "#     dbfile.close()\n",
    "\n",
    "#     for i in q2[:2000]:\n",
    "#         queries.append(i)\n",
    "#     for i in q1[:2000]:\n",
    "#         questions.append(i)\n",
    "    \n",
    "    for i in range(len(queries)):\n",
    "        train_data.append(queries[i])\n",
    "        train_labels.append(questions[i])\n",
    "\n",
    "    \n",
    "    return train_data,train_labels"
   ]
  },
  {
   "cell_type": "code",
   "execution_count": 6,
   "metadata": {},
   "outputs": [],
   "source": [
    "def max_length(tensor):\n",
    "  return max(len(t) for t in tensor)"
   ]
  },
  {
   "cell_type": "code",
   "execution_count": 7,
   "metadata": {},
   "outputs": [],
   "source": [
    "def tokenize(lang):\n",
    "  lang_tokenizer = tf.keras.preprocessing.text.Tokenizer(\n",
    "      filters='')\n",
    "  lang_tokenizer.fit_on_texts(lang)\n",
    "\n",
    "  tensor = lang_tokenizer.texts_to_sequences(lang)\n",
    "\n",
    "  tensor = tf.keras.preprocessing.sequence.pad_sequences(tensor,\n",
    "                                                         padding='post')\n",
    "\n",
    "  return tensor, lang_tokenizer"
   ]
  },
  {
   "cell_type": "code",
   "execution_count": 8,
   "metadata": {},
   "outputs": [],
   "source": [
    "def load_dataset(path, num_examples=None):\n",
    "  # creating cleaned input, output pairs\n",
    "  targ_lang, inp_lang = create_dataset(path)\n",
    "\n",
    "  input_tensor, inp_lang_tokenizer = tokenize(inp_lang)\n",
    "  target_tensor, targ_lang_tokenizer = tokenize(targ_lang)\n",
    "\n",
    "  return input_tensor, target_tensor, inp_lang_tokenizer, targ_lang_tokenizer"
   ]
  },
  {
   "cell_type": "code",
   "execution_count": 9,
   "metadata": {},
   "outputs": [],
   "source": [
    "# Try experimenting with the size of that dataset\n",
    "num_examples = 10_000\n",
    "input_tensor, target_tensor, inp_lang, targ_lang = load_dataset(path_to_file, num_examples)\n",
    "\n",
    "# Calculate max_length of the target tensors\n",
    "max_length_targ, max_length_inp = max_length(target_tensor), max_length(input_tensor)"
   ]
  },
  {
   "cell_type": "code",
   "execution_count": 10,
   "metadata": {},
   "outputs": [],
   "source": [
    "# Creating training and validation sets using an 80-20 split\n",
    "input_tensor_train, input_tensor_val, target_tensor_train, target_tensor_val = train_test_split(input_tensor, target_tensor, test_size=0.2)\n",
    "\n",
    "# Show length\n",
    "# print(len(input_tensor_train), len(target_tensor_train), len(input_tensor_val), len(target_tensor_val))"
   ]
  },
  {
   "cell_type": "code",
   "execution_count": 11,
   "metadata": {},
   "outputs": [],
   "source": [
    "def convert(lang, tensor):\n",
    "  for t in tensor:\n",
    "    if t!=0:\n",
    "      print (\"%d ----> %s\" % (t, lang.index_word[t]))"
   ]
  },
  {
   "cell_type": "code",
   "execution_count": 12,
   "metadata": {},
   "outputs": [
    {
     "name": "stdout",
     "output_type": "stream",
     "text": [
      "2 ----> <start>\n",
      "7 ----> what\n",
      "9 ----> are\n",
      "1 ----> the\n",
      "13 ----> names\n",
      "8 ----> and\n",
      "207 ----> descriptions\n",
      "4 ----> of\n",
      "14 ----> all\n",
      "1 ----> the\n",
      "752 ----> sections\n",
      "5 ----> ?\n",
      "3 ----> <end>\n",
      "7 ----> <start>\n",
      "5 ----> select\n",
      "1250 ----> section_name\n",
      "14 ----> ,\n",
      "2065 ----> section_description\n",
      "4 ----> from\n",
      "1251 ----> sections\n",
      "8 ----> <end>\n"
     ]
    }
   ],
   "source": [
    "# print (\"Input Language; index to word mapping\")\n",
    "convert(inp_lang, input_tensor_train[0])\n",
    "# print ()\n",
    "# print (\"Target Language; index to word mapping\")\n",
    "convert(targ_lang, target_tensor_train[0])"
   ]
  },
  {
   "cell_type": "code",
   "execution_count": 13,
   "metadata": {},
   "outputs": [
    {
     "name": "stdout",
     "output_type": "stream",
     "text": [
      "{'the': 1, '<start>': 2, '<end>': 3, 'of': 4, '?': 5, '.': 6, 'what': 7, 'and': 8, 'are': 9, 'in': 10, 'is': 11, 'name': 12, 'names': 13, 'all': 14, 'that': 15, 'number': 16, 'with': 17, 'have': 18, 'find': 19, 'for': 20, ',': 21, 'who': 22, 'how': 23, 'many': 24, 'show': 25, 'than': 26, 'each': 27, 'which': 28, 'list': 29, 'by': 30, 'most': 31, 'average': 32, 'a': 33, 'id': 34, 'students': 35, 'first': 36, 'has': 37, 'not': 38, 'order': 39, 'more': 40, 'type': 41, 'last': 42, 'or': 43, 'whose': 44, 'total': 45, 'return': 46, 'ids': 47, 'different': 48, 'to': 49, 'code': 50, 'count': 51, 'customers': 52, 'at': 53, 'from': 54, 'there': 55, 'least': 56, 'any': 57, 'give': 58, 'distinct': 59, 'customer': 60, 'do': 61, 'their': 62, 'year': 63, 'department': 64, 'date': 65, 'employees': 66, 'city': 67, 'product': 68, 'products': 69, 'me': 70, 'age': 71, 'as': 72, 'players': 73, 'both': 74, 'maximum': 75, 'student': 76, 'ordered': 77, 'country': 78, 'amount': 79, 'cities': 80, 'price': 81, 'on': 82, 'countries': 83, 'does': 84, 'document': 85, 'course': 86, 'descending': 87, 'courses': 88, 'highest': 89, 'named': 90, 'types': 91, 'one': 92, '3': 93, 'people': 94, 'details': 95, 'staff': 96, 'members': 97, 'largest': 98, 'codes': 99, 'dates': 100, 'ascending': 101, 'two': 102, 'used': 103, 'description': 104, 'were': 105, 'documents': 106, 'an': 107, 'did': 108, 'they': 109, 'minimum': 110, 'had': 111, 'alphabetical': 112, 'songs': 113, 'title': 114, 'companies': 115, 'salary': 116, 'after': 117, 'corresponding': 118, 'made': 119, 'phone': 120, 'employee': 121, 'titles': 122, 'state': 123, '2': 124, 'was': 125, 'rating': 126, 'location': 127, 'status': 128, 'higher': 129, 'sorted': 130, 'some': 131, 'population': 132, 'numbers': 133, 'flights': 134, 'where': 135, 'company': 136, 'account': 137, 'full': 138, 'locations': 139, 'common': 140, 'address': 141, 'top': 142, 'above': 143, 'accounts': 144, 'party': 145, 'balance': 146, 'between': 147, 'years': 148, 'tracks': 149, 'faculty': 150, 'produced': 151, '1': 152, 'before': 153, '10': 154, 'rooms': 155, 'song': 156, 'team': 157, 'airport': 158, 'less': 159, 'room': 160, 'project': 161, 'wines': 162, '5': 163, 'times': 164, 'been': 165, 'artists': 166, 'greater': 167, 'hours': 168, 'departments': 169, 'school': 170, 'enrollment': 171, 'stations': 172, 'its': 173, 'lowest': 174, 'score': 175, 'rank': 176, 'schools': 177, 'greatest': 178, 'live': 179, 'but': 180, 'either': 181, 'orders': 182, 'payment': 183, 'role': 184, 'tv': 185, 'claim': 186, 'instructors': 187, 'movie': 188, 'states': 189, 'races': 190, 'position': 191, 'friends': 192, 'club': 193, 'located': 194, 'no': 195, '100': 196, 'building': 197, 'those': 198, 'it': 199, 'below': 200, 'movies': 201, 'grade': 202, 'airports': 203, 'games': 204, 'across': 205, 'colleges': 206, 'descriptions': 207, 'authors': 208, 'capacity': 209, 'female': 210, 'transactions': 211, 'professors': 212, 'film': 213, 'teachers': 214, 'every': 215, 'class': 216, 'player': 217, 'ships': 218, 'template': 219, 'never': 220, 'english': 221, 'email': 222, 'artist': 223, 'information': 224, 'apartment': 225, 'enrolled': 226, 'played': 227, 'votes': 228, 'counties': 229, 'time': 230, 'points': 231, 'living': 232, 'checking': 233, 'we': 234, '4': 235, '2000': 236, 'gender': 237, 'opened': 238, 'county': 239, 'addresses': 240, 'when': 241, 'college': 242, 'parties': 243, 'market': 244, 'car': 245, 'please': 246, 'prices': 247, 'can': 248, 'job': 249, 'record': 250, 'station': 251, 'three': 252, 'member': 253, 'taught': 254, 'held': 255, 'sort': 256, 'teach': 257, 'high': 258, 'problems': 259, 'listed': 260, '2010': 261, 'channel': 262, 'projects': 263, 'budget': 264, 'area': 265, 'word': 266, 'card': 267, 'credit': 268, 'policy': 269, 'savings': 270, 'singers': 271, 'airlines': 272, 'lower': 273, 'registered': 274, 'detail': 275, '20': 276, 'height': 277, 'assigned': 278, 'clubs': 279, 'display': 280, 'color': 281, 'among': 282, 'start': 283, 'zip': 284, 'contains': 285, 'birth': 286, 'drivers': 287, 'oldest': 288, 'result': 289, 'male': 290, 'size': 291, 'films': 292, 'language': 293, 'dogs': 294, '1000': 295, '50': 296, 'belong': 297, 'without': 298, 'associated': 299, 'older': 300, 'value': 301, 'albums': 302, 'shops': 303, 'founded': 304, 'buildings': 305, 'apartments': 306, 'events': 307, 'method': 308, 'them': 309, 'use': 310, 'weight': 311, 'participated': 312, 'institution': 313, 'author': 314, 'category': 315, 'tourist': 316, 'person': 317, 'star': 318, 'recently': 319, 'tell': 320, 'rate': 321, 'invoices': 322, 'letter': 323, 'papers': 324, 'official': 325, 'aircrafts': 326, 'model': 327, 'reported': 328, 'routes': 329, 'ages': 330, 'received': 331, 'youngest': 332, 'genre': 333, 'phones': 334, 'classes': 335, 'matches': 336, 'university': 337, 'languages': 338, 'play': 339, 'cost': 340, 'resolution': 341, 'channels': 342, 'treatment': 343, 'attractions': 344, 'working': 345, 'smaller': 346, 'invoice': 347, 'mountains': 348, 'credits': 349, 'won': 350, 'wrestlers': 351, 'directed': 352, 'regions': 353, 'entrepreneurs': 354, 'campus': 355, 'district': 356, 'revenue': 357, 'smallest': 358, 'available': 359, 'region': 360, 'level': 361, '30': 362, 'actors': 363, 'users': 364, 'catalog': 365, 'flight': 366, 'major': 367, 'models': 368, 'director': 369, 'temperature': 370, 'san': 371, 'duration': 372, 'contain': 373, 'along': 374, 'transaction': 375, 'united': 376, 'game': 377, 'industry': 378, 'store': 379, 'dorm': 380, 'substring': 381, 'shared': 382, 'trips': 383, 'took': 384, 'taken': 385, 'report': 386, 'fewest': 387, 'allergy': 388, 'music': 389, 'recent': 390, 'positions': 391, 'classroom': 392, 'directors': 393, 'office': 394, 'nationality': 395, 'series': 396, 'over': 397, '200': 398, 'results': 399, 'money': 400, 'involved': 401, 'gymnasts': 402, 'technicians': 403, 'delegates': 404, 'dorms': 405, 'volumes': 406, 'scientists': 407, 'also': 408, 'sales': 409, 'race': 410, 'under': 411, 'headquarters': 412, 'branches': 413, 'festivals': 414, 'poker': 415, 'bigger': 416, 'aircraft': 417, 'affected': 418, 'cards': 419, 'opening': 420, 'enzymes': 421, 'election': 422, '2009': 423, 'items': 424, 'red': 425, 'playing': 426, 'devices': 427, 'pet': 428, 'templates': 429, 'hosts': 430, 'host': 431, 'end': 432, 'about': 433, 'allergies': 434, 'services': 435, 'service': 436, 'bookings': 437, 'history': 438, 'gas': 439, 'paper': 440, 'smith': 441, 'branch': 442, 'workshop': 443, 'cars': 444, '5000': 445, 'larger': 446, 'max': 447, 'days': 448, 'salaries': 449, 'advisor': 450, 'shop': 451, 'offered': 452, 'scores': 453, 'balances': 454, 'share': 455, 'per': 456, 'pilots': 457, 'driver': 458, 'correspond': 459, 'attendance': 460, '8': 461, 'published': 462, 'old': 463, 'expensive': 464, 'make': 465, 'unit': 466, 'well': 467, 'popular': 468, 'teams': 469, 'got': 470, 'degrees': 471, 'ratings': 472, 'contact': 473, 'program': 474, 'president': 475, 'orchestras': 476, 'professionals': 477, 'competitions': 478, 'competition': 479, 'speed': 480, 'books': 481, 'released': 482, 'open': 483, 'using': 484, 'settlement': 485, 'match': 486, 'participate': 487, 'stadium': 488, 'stadiums': 489, 'bank': 490, 'spring': 491, 'owner': 492, 'storms': 493, 'organization': 494, 'stores': 495, 'gpa': 496, 'personal': 497, 'physicians': 498, 'mean': 499, 'longest': 500, 'distance': 501, 'destination': 502, '300': 503, 'album': 504, 'work': 505, 'younger': 506, 'life': 507, 'manager': 508, 'train': 509, 'tryout': 510, 'amenities': 511, 'activity': 512, 'latitude': 513, 'starting': 514, 'book': 515, 'origin': 516, \"don't\": 517, 'purchased': 518, 'created': 519, 'frequently': 520, 'called': 521, 'climbers': 522, 'booking': 523, '2008': 524, 'quantity': 525, 'charge': 526, 'trains': 527, 'manufacturer': 528, 'cv': 529, 'video': 530, 'captains': 531, 'janessa': 532, 'sawayn': 533, 'dog': 534, 'makers': 535, 'schoolers': 536, 'having': 537, 'alphabetically': 538, 'musicals': 539, 'data': 540, 'cat': 541, 'hire': 542, 'his': 543, 'spent': 544, 'membership': 545, 'policies': 546, 'percentage': 547, 'home': 548, 'source': 549, 'fall': 550, 'semester': 551, 'exhibitions': 552, 'usa': 553, 'headquarter': 554, 'campuses': 555, 'fee': 556, '600': 557, 'jobs': 558, 'london': 559, 'format': 560, 'physician': 561, 'passengers': 562, 'performed': 563, 'vocal': 564, 'captain': 565, 'cylinders': 566, 'theme': 567, 'attended': 568, 'shortest': 569, 'started': 570, 'francisco': 571, 'once': 572, 'entry': 573, 'john': 574, 'advisors': 575, 'family': 576, 'track': 577, 'pop': 578, 'body': 579, 'performances': 580, 'claims': 581, 'hometown': 582, 'investors': 583, 'perpetrators': 584, 'bed': 585, 'visited': 586, 'her': 587, 'loan': 588, 'teacher': 589, 'groups': 590, 'characteristics': 591, 'hotels': 592, 'pets': 593, 'airline': 594, 'candidate': 595, 'range': 596, 'written': 597, 'user': 598, 'attribute': 599, 'stock': 600, 'records': 601, 'get': 602, '(sex': 603, 'out': 604, 'containing': 605, 'part': 606, 'season': 607, 'enrollments': 608, 'provided': 609, 'event': 610, 'reviewers': 611, 'reviewer': 612, 'stars': 613, 'rated': 614, 'base': 615, 'active': 616, 'degree': 617, 'patients': 618, 'procedures': 619, 'ship': 620, 'cycle': 621, 'characteristic': 622, 'activities': 623, 'statement': 624, 'concerts': 625, 'paragraphs': 626, 'spoken': 627, 'unique': 628, 'rates': 629, 'day': 630, 'point': 631, 'nominated': 632, 'emails': 633, 'database': 634, 'food': 635, 'editors': 636, 'owned': 637, '2004': 638, 'representatives': 639, 'marketing': 640, 'instructor': 641, 'computer': 642, 'payments': 643, 'districts': 644, 'pilot': 645, 'nationalities': 646, 'compute': 647, 'loans': 648, 'log': 649, 'acct-211': 650, 'professor': 651, 'd': 652, 'boston': 653, 'stockings': 654, 'programs': 655, 'middle': 656, 'bootup': 657, 'baltimore': 658, 'musician': 659, 'problem': 660, 'roller': 661, 'built': 662, 'appelations': 663, 'maker': 664, 'horsepower': 665, 'cartoons': 666, 'earnings': 667, 'themes': 668, 'candidates': 669, 'publishers': 670, 'award': 671, 'paid': 672, 'belongs': 673, '3000': 674, '40': 675, 'settlements': 676, 'new': 677, '2002': 678, 'builders': 679, '10000': 680, ')': 681, 'hometowns': 682, 'done': 683, 'markets': 684, 'requested': 685, 'nations': 686, 'affiliated': 687, 'banks': 688, 'subject': 689, 'described': 690, 'friend': 691, 'complaint': 692, 'weeks': 693, 'singer': 694, 'expectancy': 695, 'conductors': 696, 'statistics': 697, 'often': 698, '25': 699, 'long': 700, 'together': 701, 'drama': 702, 'other': 703, 'los': 704, 'angeles': 705, 'sex': 706, 'file': 707, 'hardware': 708, '90': 709, 'latest': 710, '2014': 711, 'elimination': 712, 'carriers': 713, 'banking': 714, 'grand': 715, 'uk': 716, 'china': 717, 'white': 718, 'journalists': 719, 'linda': 720, 'bus': 721, 'hall': 722, 'outcomes': 723, 'research': 724, 'heilo': 725, 'vocals': 726, 'submission': 727, 'sports': 728, 'famous': 729, 'grapes': 730, 'continent': 731, 'hosted': 732, 'trip': 733, 'select': 734, '0': 735, 'exist': 736, 'much': 737, 'rock': 738, 'bought': 739, 'amounts': 740, 'produce': 741, 'medicines': 742, 'medicine': 743, 'earliest': 744, 'prerequisite': 745, '2016': 746, 'main': 747, 'managers': 748, 'decor': 749, 'visit': 750, 'rental': 751, 'sections': 752, 'manufacturers': 753, 'owners': 754, 'trained': 755, 'tonnage': 756, 'goalie': 757, 'instruments': 758, 'railways': 759, 'complaints': 760, 'submissions': 761, 'aberdeen': 762, 'speak': 763, 'statuses': 764, '500': 765, 'these': 766, 'accessed': 767, 'outcome': 768, 'cell': 769, 'jose': 770, 'bikes': 771, 'ever': 772, 'equal': 773, 'place': 774, 'majors': 775, '18': 776, 'related': 777, 'support': 778, 'universities': 779, 'york': 780, 'happened': 781, 'international': 782, '2005': 783, 'ticket': 784, 'reviews': 785, 'reviewed': 786, 'saving': 787, 'only': 788, '2001': 789, 'industries': 790, 'prix': 791, 'investor': 792, 'jones': 793, 'faculties': 794, 'oppose': 795, '1980': 796, 'ph': 797, 'studying': 798, 'photos': 799, 'treatments': 800, 'studios': 801, 'grant': 802, 'organisation': 803, 'alice': 804, 'access': 805, 'artworks': 806, 'denomination': 807, 'training': 808, 'le': 809, 'museum': 810, 'attraction': 811, 'arriving': 812, 'likes': 813, '15': 814, 'secretary': 815, 'bike': 816, 'be': 817, 'grouped': 818, 'this': 819, 'seating': 820, 'exactly': 821, 'interact': 822, 'elections': 823, 'roles': 824, 'budgets': 825, 'offers': 826, 'aged': 827, 'single': 828, '1990': 829, 'football': 830, 'operated': 831, 'australian': 832, 'stop': 833, 'longer': 834, 'crime': 835, 'conferred': 836, 'king': 837, 'cross': 838, 'storm': 839, 'restaurant': 840, 'line': 841, 'fault': 842, 'engineer': 843, 'accounting': 844, 'expenses': 845, 'broadcast': 846, 'teaches': 847, 'cancelled': 848, 'yes': 849, 'platforms': 850, 'lessons': 851, 'departing': 852, 'cartoon': 853, 'asia': 854, 'assessment': 855, 'longitude': 856, 'mountain': 857, 'cover': 858, 'publication': 859, 'followers': 860, 'twice': 861, '(in': 862, 'length': 863, '100000': 864, 'origins': 865, 'gross': 866, 'us': 867, 'canada': 868, 'committee': 869, 'sum': 870, 'trade': 871, 'screen': 872, 'draft': 873, 'guests': 874, 'kyle': 875, 'classrooms': 876, 'offer': 877, 'given': 878, 'alphabetic': 879, '2003': 880, 'biology': 881, 'debates': 882, 'claimed': 883, 'except': 884, 'm': 885, 'compatible': 886, 'system': 887, 'cinema': 888, 'assets': 889, 'left': 890, 'shipping': 891, 'shipped': 892, 'f)': 893, 'release': 894, 'police': 895, 'offices': 896, 'kind': 897, 'categories': 898, 'engineers': 899, 'teaching': 900, '12000': 901, 'works': 902, 'postseason': 903, 'login': 904, 'appointment': 905, 'patient': 906, 'medication': 907, 'block': 908, 'wen': 909, 'hopkins': 910, 'enterprises': 911, 'page': 912, 'software': 913, 'badlands': 914, 'back': 915, 'amenity': 916, 'lounge': 917, 'scholarship': 918, 'coasters': 919, 'ranks': 920, 'wine': 921, 'winery': 922, 'carole': 923, 'accelerate': 924, 'ben': 925, 'episode': 926, 'surface': 927, 'citizenship': 928, 'attend': 929, 'through': 930, 'structure': 931, 'cheapest': 932, 'starts': 933, 'fly': 934, 'lives': 935, 'media': 936, 'milliseconds': 937, 'you': 938, 'kinds': 939, 'take': 940, 'enzyme': 941, 'affiliation': 942, 'launched': 943, 'bedrooms': 944, 'studio': 945, 'injury': 946, 'advise': 947, 'taking': 948, 'earn': 949, 'item': 950, 'invested': 951, 'participants': 952, 'laptime': 953, 'lap': 954, 'null': 955, 'death': 956, 'served': 957, 'inventory': 958, 'notes': 959, 'week': 960, 'hired': 961, 's': 962, 'commission': 963, 'final': 964, 'tests': 965, 'worked': 966, 'mid': 967, 'filed': 968, 'visitors': 969, 'grape': 970, 'lesson': 971, 'american': 972, 'version': 973, 'winners': 974, 'transcript': 975, 'schooler': 976, 'heads': 977, 'head': 978, '1500': 979, '85': 980, '7': 981, 'availability': 982, '80': 983, 'reached': 984, 'ending': 985, 'decreasing': 986, 'lasted': 987, 'ended': 988, '70': 989, 'come': 990, 'publisher': 991, 'nominees': 992, 'frequent': 993, 'text': 994, 'certificates': 995, 'milk': 996, 'up': 997, 'genres': 998, 'nancy': 999, 'serve': 1000, 'committees': 1001, 'fda': 1002, 'basketball': 1003, '1850': 1004, '32': 1005, 'heights': 1006, 'builder': 1007, 'occurred': 1008, 'five': 1009, 'finance': 1010, 'c': 1011, 'math': 1012, \"didn't\": 1013, '150': 1014, 'stage': 1015, 'joined': 1016, 'genders': 1017, '2011': 1018, 'belonging': 1019, 'institutions': 1020, 'cinemas': 1021, 'booked': 1022, 'costs': 1023, 'operate': 1024, 'agent': 1025, 'copies': 1026, 'chinese': 1027, 'fastest': 1028, 'repair': 1029, 'lines': 1030, 'm)': 1031, 'james': 1032, 'modern': 1033, 'reference': 1034, 'handled': 1035, 'monthly': 1036, 'go': 1037, 'low': 1038, '(first': 1039, 'minute': 1040, 'love': 1041, 'parks': 1042, 'morning': 1043, '111': 1044, 'nurses': 1045, 'call': 1046, 'grades': 1047, 'estimation': 1048, 'bk': 1049, 'destruction': 1050, 'destroyed': 1051, 'tennis': 1052, 'organizations': 1053, 'austin': 1054, 'festival': 1055, 'division': 1056, 'neb': 1057, 'suppliers': 1058, 'band': 1059, 'memberships': 1060, 'swimmers': 1061, 'walk': 1062, 'gdp': 1063, 'scientist': 1064, 'appelation': 1065, 'bernhard': 1066, 'canoeing': 1067, 'kayaking': 1068, 'elevation': 1069, 'architects': 1070, '1989': 1071, 'continents': 1072, 'europe': 1073, 'paragraph': 1074, 'winner': 1075, 'sky': 1076, 'radio': 1077, 'contestant': 1078, 'government': 1079, 'conducted': 1080, 'born': 1081, 'california': 1082, 'managed': 1083, 'farms': 1084, 'residents': 1085, 'ranking': 1086, 'pass': 1087, 'info': 1088, 'publications': 1089, 'awarded': 1090, 'tweets': 1091, 'la': 1092, 'certificate': 1093, 'animal': 1094, 'advises': 1095, \"employee's\": 1096, 'fast': 1097, 'retrieve': 1098, 'public': 1099, 'ram': 1100, 'mode': 1101, 'accreditation': 1102, 'ranges': 1103, 'prominence': 1104, 'beds': 1105, '2007': 1106, 'prerequisites': 1107, 'earning': 1108, 'science': 1109, 'includes': 1110, 'venues': 1111, 'venue': 1112, 'side': 1113, 'colors': 1114, 'churches': 1115, '2015': 1116, 'exhibition': 1117, 'table': 1118, 'review': 1119, 'medals': 1120, 'someone': 1121, 'browsers': 1122, 'accelerators': 1123, 'japan': 1124, 'eliminated': 1125, 'asset': 1126, 'ministers': 1127, 'forename': 1128, 'pit': 1129, 'machines': 1130, 'then': 1131, 'reserved': 1132, 'methods': 1133, 'addressed': 1134, 'section': 1135, 'minutes': 1136, 'tournament': 1137, 'furnitures': 1138, '(': 1139, 'park': 1140, 'brand': 1141, 'tutors': 1142, 'settled': 1143, 'zach': 1144, 'mailshots': 1145, 'tryouts': 1146, 'instrument': 1147, 'founder': 1148, 'rylan': 1149, 'road': 1150, 'world': 1151, 'placed': 1152, 'flag': 1153, 'regional': 1154, 'individuals': 1155, 'form': 1156, 'lived': 1157, 'french': 1158, 'tables': 1159, 'africa': 1160, 'asian': 1161, 'breed': 1162, 'horses': 1163, 'org': 1164, 'fail': 1165, '37': 1166, '94107': 1167, 'palo': 1168, 'alto': 1169, 'durations': 1170, 'our': 1171, 'actor': 1172, 'nominee': 1173, 'bob': 1174, 'musical': 1175, 'titled': 1176, 'awards': 1177, 'entries': 1178, 'content': 1179, 'contents': 1180, 'dollars': 1181, 'distances': 1182, 'mark': 1183, 'young': 1184, 'honolulu': 1185, 'destinations': 1186, 'complete': 1187, 'boeing': 1188, 'f': 1189, 'edwards': 1190, 'playlist': 1191, 'playlists': 1192, 'shark': 1193, 'wall': 1194, 'editor': 1195, 'art': 1196, 'turcotte': 1197, 'processed': 1198, '4000': 1199, 'purchase': 1200, 'happy': 1201, 'dayana': 1202, 'robel': 1203, 'close': 1204, 'diana': 1205, 'include': 1206, 'acc': 1207, 'percent': 1208, 'during': 1209, 'defender': 1210, 'columbus': 1211, 'vote': 1212, 'confirmed': 1213, 'facility': 1214, 'counts': 1215, 'injured': 1216, 'caused': 1217, 'accidents': 1218, 'overall': 1219, 'best': 1220, 'lamberton': 1221, 'psychology': 1222, '80000': 1223, 'audience': 1224, '900': 1225, 'good': 1226, 'coaches': 1227, 'floor': 1228, '23': 1229, 'browser': 1230, 'web': 1231, 'systems': 1232, 'tokyo': 1233, 'orton': 1234, 'endowment': 1235, '6000': 1236, 'floors': 1237, 'labels': 1238, '50000': 1239, '2017': 1240, 'surname': 1241, 'forenames': 1242, 'circuits': 1243, 'france': 1244, '1996': 1245, 'granted': 1246, 'steven': 1247, 'cameron': 1248, 'same': 1249, 'harris': 1250, 'east': 1251, 'kids': 1252, 'stay': 1253, 'roy': 1254, 'check': 1255, 'cmi': 1256, 'master': 1257, 'delegate': 1258, 'lieutenant': 1259, 'governor': 1260, 'democratic': 1261, 'rented': 1262, 'australia': 1263, 'feature': 1264, 'incident': 1265, 'detention': 1266, 'parts': 1267, 'faults': 1268, 'visits': 1269, 'produces': 1270, '8000': 1271, 'july': 1272, 'clara': 1273, 'mp3': 1274, 'bangla': 1275, 'march': 1276, 'camera': 1277, 'lens': 1278, 'cctv': 1279, 'night': 1280, 'completion': 1281, 'spanish': 1282, 'appointments': 1283, 'x': 1284, 'undergoing': 1285, 'estimations': 1286, '1995': 1287, 'pen': 1288, 'gaming': 1289, 'bal': 1290, 'dan': 1291, 'david': 1292, 'nyc': 1293, 'supplier': 1294, 'pages': 1295, 'delivery': 1296, 'photo': 1297, 'solveig': 1298, 'mate': 1299, 'sony': 1300, 'revenues': 1301, 'vice': 1302, 'typical': 1303, 'lots': 1304, 'visitor': 1305, 'museums': 1306, 'latte': 1307, 'ceremony': 1308, 'issue': 1309, 'coaster': 1310, 'midshipman': 1311, 'forms': 1312, 'altitude': 1313, 'michael': 1314, 'coast': 1315, 'central': 1316, 'wineries': 1317, 'shipment': 1318, '1999': 1319, '2013': 1320, 'concert': 1321, 'abbreviation': 1322, 'apg': 1323, 'battles': 1324, 'shows': 1325, 'package': 1326, 'lifetime': 1327, 'dutch': 1328, 'worth': 1329, 'creation': 1330, 'populations': 1331, 'frequency': 1332, 'mobile': 1333, 'registration': 1334, 'humidity': 1335, 'cloud': 1336, '60': 1337, 'wind': 1338, '10000000': 1339, 'catalogs': 1340, 'usd)': 1341, '200000': 1342, 'departure': 1343, '737-800': 1344, 'provide': 1345, 'sizes': 1346, \"customers'\": 1347, 'balls': 1348, 'audio': 1349, 'journals': 1350, 'journal': 1351, 'hold': 1352, 'fewer': 1353, 'black': 1354, 'hartford': 1355, 'hour': 1356, 'ny': 1357, 'com': 1358, 'loss': 1359, 'increasing': 1360, 'approval': 1361, 'interactions': 1362, 'nicknames': 1363, 'primary': 1364, 'chip': 1365, 'nokia': 1366, 'corporation': 1367, 'provisional': 1368, 'kingdom': 1369, 'climb': 1370, 'stories': 1371, 'snatch': 1372, 'indiana': 1373, 'bathrooms': 1374, 'terms': 1375, 'attendees': 1376, 'performance': 1377, 'depart': 1378, '(with': 1379, 'females': 1380, 'orange': 1381, 'receive': 1382, 'leave': 1383, 'researcher': 1384, 'tallest': 1385, 'became': 1386, 'accelerator': 1387, '1998': 1388, 'operating': 1389, 'eliminations': 1390, '9': 1391, 'donor': 1392, '800': 1393, 'stocks': 1394, 'values': 1395, 'profits': 1396, 'showed': 1397, 'participant': 1398, 'shorter': 1399, 'entrepreneur': 1400, 'csu': 1401, 'ratio': 1402, 'gone': 1403, 'brittany': 1404, 'accommodate': 1405, 'reservations': 1406, 'staying': 1407, '120': 1408, 'tax': 1409, 'parking': 1410, 'deaths': 1411, 'damage': 1412, 'millions': 1413, '1121': 1414, \"student's\": 1415, 'second': 1416, 'texas': 1417, 'texts': 1418, 'logs': 1419, 'contacted': 1420, 'runs': 1421, 'miles': 1422, '6': 1423, 'name)': 1424, 'within': 1425, 'managing': 1426, 'if': 1427, 'sang': 1428, 'mission': 1429, 'study': 1430, 'authorised': 1431, 'grants': 1432, 'staffs': 1433, 'task': 1434, \"'united\": 1435, 'winning': 1436, 'win': 1437, 'property': 1438, 'resident': 1439, 'nickname': 1440, '000': 1441, 'florida': 1442, 'decision': 1443, 'quantities': 1444, 'performer': 1445, 'ashley': 1446, 'musicians': 1447, 'senator': 1448, 'advised': 1449, 'buying': 1450, 'measurement': 1451, 'russia': 1452, 'swimmer': 1453, 'lot': 1454, 'sale': 1455, 'tourists': 1456, 'volume': 1457, 'flags': 1458, 'vehicle': 1459, 'expense': 1460, 'north': 1461, 'outstanding': 1462, 'bridges': 1463, 'mills': 1464, 'mill': 1465, 'own': 1466, 'jetblue': 1467, 'airways': 1468, 'losers': 1469, 'transcripts': 1470, 'contestants': 1471, 'governments': 1472, 'conductor': 1473, \"owner's\": 1474, 'net': 1475, 'farm': 1476, 'village': 1477, '301': 1478, 'view': 1479, 'sea': 1480, 'pressure': 1481, 'min': 1482, 'dew': 1483, 'speeds': 1484, '12': 1485, '5000000': 1486, 'characters': 1487, 'fosse': 1488, 'tony': 1489, 'man': 1490, 'followed': 1491, 'tweeted': 1492, 'definitions': 1493, '700': 1494, 'arrival': 1495, '99': 1496, 'airbus': 1497, 'a340-300': 1498, 'kim': 1499, 'hkg': 1500, 'chi': 1501, 'allergic': 1502, 'chicago': 1503, 'billed': 1504, 'ca': 1505, 'astrid': 1506, 'manage': 1507, 'mancini': 1508, 'spend': 1509, 'mpeg': 1510, 'stored': 1511, 'files': 1512, 'jazz': 1513, 'valid': 1514, 'he': 1515, 'seats': 1516, \"'a'\": 1517, 'postal': 1518, 'germany': 1519, 'insurance': 1520, 'notification': 1521, \"'heme'\": 1522, 'interaction': 1523, 'regular': 1524, '20000': 1525, 'regarding': 1526, 'ucla': 1527, 'duke': 1528, 'seasons': 1529, 'crew': 1530, 'climbed': 1531, 'west': 1532, 'persons': 1533, 'short': 1534, 'four': 1535, 'left-footed': 1536, 'attendances': 1537, 'physics': 1538, \"students'\": 1539, 'affirmative': 1540, 'processing': 1541, 'deputy': 1542, 'church': 1543, 'weddings': 1544, 'wedding': 1545, '46': 1546, 'occupation': 1547, 'bar': 1548, 'shares': 1549, 'clients': 1550, 'reigns': 1551, 'donation': 1552, 'budgeted': 1553, 'later': 1554, 'carrier': 1555, '1961': 1556, 'progress': 1557, 'flied': 1558, 'circulation': 1559, 'lewis': 1560, 'standing': 1561, 'constructors': 1562, 'spain': 1563, '841': 1564, 'stops': 1565, '11': 1566, 'biggest': 1567, '1950': 1568, 'poll': 1569, 'resource': 1570, 'consider': 1571, 'spielberg': 1572, 'forces': 1573, 'percentages': 1574, 'case': 1575, 'adults': 1576, 'checked': 1577, 'oct': 1578, 'inn': 1579, 'yet': 1580, 'register': 1581, 'denmark': 1582, 'afghanistan': 1583, 'governors': 1584, 'comptroller': 1585, 'appropriations': 1586, 'subway': 1587, 'majoring': 1588, 'turon': 1589, 'ohori': 1590, 'ueno': 1591, 'google': 1592, 'functional': 1593, 'elsa': 1594, 'owns': 1595, 'utah': 1596, 'behavior': 1597, 'maintenance': 1598, 'third': 1599, 'recorded': 1600, 'skill': 1601, 'makes': 1602, 'local': 1603, 'cis-220': 1604, 'qm-261': 1605, 'smithson': 1606, 'furniture': 1607, 'components': 1608, '5th': 1609, '18000': 1610, 'past': 1611, 'detailed': 1612, 'sung': 1613, 'mp4': 1614, 'participating': 1615, 'enter': 1616, 'fame': 1617, \"players'\": 1618, 'lost': 1619, 'atlanta': 1620, 'lenses': 1621, 'picture': 1622, 'beijing': 1623, 'ward': 1624, 'primarily': 1625, 'prescribe': 1626, 'medications': 1627, 'prescribed': 1628, 'surgery': 1629, 'psychiatry': 1630, 'procrastin-x': 1631, 'otha': 1632, 'moyer': 1633, 'ray': 1634, 'walter': 1635, 'hill': 1636, 'universal': 1637, 'calendar': 1638, 'ebba': 1639, 'robin': 1640, 'organisations': 1641, 'leader': 1642, 'leaving': 1643, 'tasks': 1644, 'everybody': 1645, 'logged': 1646, 'premise': 1647, 'supplied': 1648, 'pending': 1649, 'clerical': 1650, 'domestic': 1651, 'heathrow': 1652, 'gatwick': 1653, 'denominations': 1654, 'areas': 1655, 'a4': 1656, 'tried': 1657, 'striker': 1658, 'goalies': 1659, 'device': 1660, '2012': 1661, 'actual': 1662, 'marianne': 1663, 'label': 1664, 'lead': 1665, 'der': 1666, 'kapitan': 1667, 'group': 1668, 'based': 1669, 'dvd': 1670, \"manufacturer's\": 1671, 'homenick': 1672, 'voluptatem': 1673, 'christop': 1674, 'bosco': 1675, '1978-06-26': 1676, 'kentucky': 1677, 'voting': 1678, 'treasurer': 1679, 'cumin': 1680, \"'cumin'\": 1681, \"'white'\": 1682, 'selling': 1683, '2006': 1684, 'raised': 1685, 'gallery': 1686, 'accessible': 1687, \"'vincent'\": 1688, 'vincent': 1689, 'destiny': 1690, 'sport': 1691, 'lacrosse': 1692, 'cash': 1693, 'americano': 1694, 'colorado': 1695, 'post': 1696, 'tillman': 1697, 'ernser': 1698, 'rodrick': 1699, 'heaney': 1700, '1994': 1701, 'fifa': 1702, 'cup': 1703, 'qualification': 1704, 'statements': 1705, \"project'\": 1706, \"'sf'\": 1707, 'require': 1708, 'sonoma': 1709, 'anthony': 1710, 'goodwin': 1711, 'giuliano': 1712, 'tracking': 1713, '3452': 1714, 'jeramie': 1715, '1989-09-03': 1716, '2007-12-25': 1717, 'nation': 1718, 'motor': 1719, '3500': 1720, \"'apg'\": 1721, 'bonus': 1722, 'arranged': 1723, 'wta': 1724, 'championships': 1725, 'tours': 1726, 'air': 1727, 'todd': 1728, 'casey': 1729, '300000': 1730, 'voted': 1731, 'republic': 1732, 'republics': 1733, 'aruba': 1734, 'gnp': 1735, 'speaks': 1736, '72': 1737, 'liked': 1738, 'professional': 1739, \"professional's\": 1740, 'stands': 1741, 'acting': 1742, 'led': 1743, 'attending': 1744, 'august': 1745, 'traveled': 1746, 'visibility': 1747, 'south': 1748, 'difference': 1749, 'writers': 1750, 'appeared': 1751, 'opera': 1752, 'mary': 1753, 'capacities': 1754, 'certified': 1755, 'corresponds': 1756, 'cats': 1757, 'il': 1758, 'gruber': 1759, 'lucas': 1760, '4560596484842': 1761, 'financial': 1762, 'ones': 1763, 'brazil': 1764, 'latin': 1765, 'appears': 1766, 'uses': 1767, 'upgrade': 1768, 'lexicographical': 1769, 'online': 1770, \"'inhibitor'\": 1771, 'possible': 1772, 'string': 1773, 'conference': 1774, 'lg-p760': 1775, 'wifi': 1776, 'launch': 1777, 'capital': 1778, 'native': 1779, 'climber': 1780, 'birthdays': 1781, 'places': 1782, '140': 1783, 'birthday': 1784, 'january': 1785, 'representative': 1786, 'pennsylvania': 1787, 'emma': 1788, 'bathroom': 1789, 'injuries': 1790, 'right': 1791, \"haven't\": 1792, 'comp': 1793, 'sci': 1794, 'ran': 1795, 'earned': 1796, '35': 1797, '36': 1798, 'meaghan': 1799, 'included': 1800, 'joining': 1801, 'join': 1802, 'wrote': 1803, 'goods': 1804, 'trust': 1805, 'residence': 1806, 'brandon': 1807, 'gold': 1808, 'gymnast': 1809, 'wrestler': 1810, 'moves': 1811, 'donors': 1812, 'glenn': 1813, 'donator': 1814, 'street': 1815, 'feet': 1816, 'proteins': 1817, 'incurred': 1818, '102': 1819, 'minister': 1820, 'usps': 1821, '30000': 1822, 'failure': 1823, 'german': 1824, 'reversed': 1825, 'reverse': 1826, \"drivers'\": 1827, 'technician': 1828, 'machine': 1829, 'taller': 1830, 'weights': 1831, 'killed': 1832, 'perpetrator': 1833, 'unsure': 1834, 'males': 1835, 'officers': 1836, 'force': 1837, 'hotel': 1838, 'sweazy': 1839, '21': 1840, 'payed': 1841, 'just': 1842, 'reservation': 1843, 'masters': 1844, 'council': 1845, 'business': 1846, 'taxes': 1847, 'kertzmann': 1848, 'visa': 1849, 'incidents': 1850, 'medhurst': 1851, 'wisconsin': 1852, 'contract': 1853, 'network': 1854, 'authority': 1855, 'including': 1856, 'friendly': 1857, 'factories': 1858, 'producing': 1859, 'presently': 1860, 'name(': 1861, 'formats': 1862, 'highly': 1863, 'approximately': 1864, 'bangladesh': 1865, 'ties': 1866, '(the': 1867, \"'y'\": 1868, 'tutor': 1869, 'test': 1870, 'enroll': 1871, 'stayed': 1872, 'care': 1873, 'procedure': 1874, 'fates': 1875, 'missions': 1876, 'authorize': 1877, 'doctor': 1878, 'relationship': 1879, 'images': 1880, \"states'\": 1881, 'premises': 1882, 'minoring': 1883, 'earlier': 1884, 'move': 1885, '15000': 1886, 'accepted': 1887, 'fl': 1888, 'practicing': 1889, 'successfully': 1890, 'platform': 1891, \"'s'\": 1892, 'showing': 1893, \"product's\": 1894, '1986-11-13': 1895, 'purchases': 1896, 'georgia': 1897, 'spices': 1898, \"'spices'\": 1899, 'herbs': 1900, \"'yellow'\": 1901, 'sesame': 1902, \"'sesame'\": 1903, 'measure': 1904, 'meter': 1905, 'acceptance': 1906, 'workshops': 1907, 'pur': 1908, 'occurs': 1909, 'ways': 1910, 'steered': 1911, 'formed': 1912, 'individual': 1913, 'velocity': 1914, \"'king\": 1915, \"book'\": 1916, 'production': 1917, 'italy': 1918, \"airlines'\": 1919, 'bridge': 1920, 'gallon': 1921, 'volvo': 1922, \"'aberdeen'\": 1923, \"'ahd'\": 1924, 'ahd': 1925, 'evaluation': 1926, 'evaluations': 1927, 'hiring': 1928, 'ppt': 1929, 'tickets': 1930, 'loser': 1931, 'tourney': 1932, 'hand': 1933, 'handed': 1934, 'battle': 1935, 'bulgarian': 1936, 'commander': 1937, 'summary': 1938, 'currently': 1939, 'options': 1940, 'create': 1941, 'predominantly': 1942, 'african': 1943, 'went': 1944, 'citizenships': 1945, 'outside': 1946, \"'yes'\": 1947, 'aliens': 1948, 'cows': 1949, 'census': 1950, 'rankings': 1951, 'attends': 1952, '171': 1953, 'actually': 1954, 'stanley': 1955, 'monahan@example': 1956, '121': 1957, '636': 1958, \"station's\": 1959, '94002': 1960, '14': 1961, 'installed': 1962, 'december': 1963, 'reach': 1964, 'installation': 1965, 'dock': 1966, 'neither': 1967, 'nor': 1968, 'gust': 1969, '94103': 1970, '31': 1971, 'issues': 1972, 'phantom': 1973, 'desk': 1974, 'cleavant': 1975, 'derricks': 1976, 'partition': 1977, 'tweet': 1978, 'susan': 1979, 'possessed': 1980, 'green': 1981, 'murray': 1982, 'euro)': 1983, 'revisions': 1984, 'next': 1985, '242518965': 1986, 'coming': 1987, 'williams': 1988, 'able': 1989, 'salaray': 1990, 'planes': 1991, '1004': 1992, 'lisa': 1993, 'girl': 1994, \"'m')\": 1995, 'soy': 1996, 'something': 1997, 'billy': 1998, 'eduardo': 1999, 'martins': 2000, 'prague': 2001, 'roberto': 2002, 'almeida': 2003, \"'led'\": 2004, 'phrase': 2005, 'steve': 2006, 'johnson': 2007, 'supports': 2008, \"edwards's\": 2009, 'supported': 2010, 'composer': 2011, 'peeters': 2012, 'serving': 2013, '338': 2014, '162': 2015, 'aniyah': 2016, 'feest': 2017, 'debit': 2018, 'blanche': 2019, 'huels': 2020, 'holding': 2021, 'seatings': 2022, \"'gt'\": 2023, '90000': 2024, '70000': 2025, 'waterbury': 2026, 'month': 2027, 'calgary': 2028, 'billing': 2029, 'ac/dc': 2030, 'hom': 2031, 'metallica': 2032, 'luisg@embraer': 2033, 'br': 2034, 'gmail': 2035, 'helps': 2036, 'leonie': 2037, 'help': 2038, '70174': 2039, 'totals': 2040, 'aac': 2041, 'millisecond': 2042, 'serves': 2043, 'lengths': 2044, 'edmonton': 2045, 'effective': 2046, 'effect': 2047, 'chromosome': 2048, 'porphyria': 2049, \"'cytosol'\": 2050, 'approved': 2051, \"'ala\": 2052, \"synthase'\": 2053, \"'aripiprazole'\": 2054, 'inhibitor': 2055, 'cannot': 2056, 'founding': 2057, 'newest': 2058, 'non': 2059, 'clemson': 2060, \"'ny'\": 2061, 'affiliations': 2062, 'char': 2063, 'pixels': 2064, 'graphics': 2065, 'kb': 2066, 'pick': 2067, 'defenders': 2068, 'indonesia': 2069, 'dublin': 2070, 'maryland': 2071, 'ryley': 2072, 'goldner': 2073, 'forward': 2074, 'midfielder': 2075, 'switzerland': 2076, 'uganda': 2077, '5600': 2078, '5200': 2079, 'clean': 2080, 'jerk': 2081, 'percents': 2082, 'republican': 2083, 'brenden': 2084, 'court': 2085, 'flat': 2086, 'duplex': 2087, 'suite': 2088, '634': 2089, 'guest': 2090, 'gym': 2091, 'square': 2092, 'suffer': 2093, \"'knee\": 2094, \"problem'\": 2095, \"'walter\": 2096, \"samuel'\": 2097, 'england': 2098, 'right-footed': 2099, '180cm': 2100, \"'soisalon'\": 2101, 'earns': 2102, 'large': 2103, 'small': 2104, 'respective': 2105, \"instructors'\": 2106, 'advising': 2107, 'differential': 2108, 'geometry': 2109, 'chandler': 2110, 'programming': 2111, 'computing': 2112, 'course_id': 2113, '42000': 2114, '(at': 2115, 'one)': 2116, 'negative': 2117, 'chosen': 2118, 'headers': 2119, 'stages': 2120, 'keeling': 2121, '337': 2122, 'teh': 2123, 'organizer': 2124, 'prior': 2125, 'gave': 2126, 'target': 2127, 'write': 2128, 'sponsors': 2129, 'residences': 2130, 'coach': 2131, 'exercise': 2132, 'horizontal': 2133, 'santo': 2134, 'domingo': 2135, '57': 2136, 'brown': 2137, \"'cachebox'\": 2138, 'become': 2139, 'reign': 2140, 'benjamin': 2141, 'punk': 2142, 'mascot': 2143, 'private': 2144, '1880': 2145, 'protein': 2146, 'schedule': 2147, 'theater': 2148, \"'dummy'\": 2149, 'coupons': 2150, 'bad': 2151, 'daily': 2152, 'memories': 2153, 'memory': 2154, 'headquartered': 2155, 'oil': 2156, 'exxonmobil': 2157, '1959': 2158, 'annual': 2159, 'meeting': 2160, 'fleet': 2161, 'receipt': 2162, '93000': 2163, 'surnames': 2164, 'constructor': 2165, '12:00:00': 2166, '09:00:00': 2167, 'malaysia': 2168, 'belgium': 2169, 'japanese': 2170, \"'monaco\": 2171, \"prix'\": 2172, 'monaco': 2173, 'quality': 2174, 'cle': 2175, 'cws': 2176, 'rachel': 2177, 'elnaugh': 2178, 'simon': 2179, 'woodroffe': 2180, 'peter': 2181, '140000': 2182, '120000': 2183, 'kills': 2184, 'injures': 2185, 'happen': 2186, 'chico': 2187, '1958': 2188, '1800': 2189, '1935': 2190, '1939': 2191, 'northridge': 2192, '400': 2193, '1956': 2194, 'beach': 2195, 'undergraduates': 2196, '190': 2197, 'avatar': 2198, 'daniel': 2199, 'mininum': 2200, 'sarah': 2201, 'martinez': 2202, 'chris': 2203, 'jackson': 2204, 'excluding': 2205, 'poorly': 2206, '$160': 2207, '160': 2208, \"room's\": 2209, 'conrad': 2210, 'selbig': 2211, 'damien': 2212, 'trachsel': 2213, 'sep': 2214, 'recluse': 2215, 'defiance': 2216, 'occupancy': 2217, \"rooms'\": 2218, 'traditional': 2219, 'queen': 2220, \"'tax'\": 2221, 'benifit': 2222, 'renting': 2223, 'arrears': 2224, 'index': 2225, 'references': 2226, 'teqnology': 2227, '45': 2228, 'died': 2229, 'affect': 2230, 'albania': 2231, 'howard': 2232, 'eliot': 2233, 'spitzer': 2234, 'comptrollers': 2235, 'severed': 2236, 'liberal': 2237, 'journalist': 2238, 'restaurants': 2239, 'sandwich': 2240, 'route': 2241, 'jeremy': 2242, 'gibbons': 2243, 'aaron': 2244, 'atsushi': 2245, 'matthias': 2246, 'blume': 2247, 'katsuhiro': 2248, 'oxford': 2249, 'binders': 2250, 'unbound': 2251, 'nameless': 2252, 'painless': 2253, 'tokohu': 2254, 'olin': 2255, 'shivers': 2256, 'stephanie': 2257, 'weirich': 2258, 'ml': 2259, 'monadic': 2260, 'amal': 2261, 'actresses': 2262, 'daugavpils': 2263, 'starred': 2264, 'r': 2265, \"'deleted\": 2266, \"scenes'\": 2267, 'special': 2268, 'pg': 2269, 'april': 2270, 'burns': 2271, \"'2005-08-23\": 2272, \"02:06:01'\": 2273, 'morningside': 2274, 'mortgages': 2275, 'auto': 2276, 'loaned': 2277, 'detentions': 2278, 'rentals': 2279, 'supply': 2280, 'contracts': 2281, 'skills': 2282, 'required': 2283, 'fix': 2284, 'requires': 2285, 'chennai': 2286, 'guruvayur': 2287, 'precipitation': 2288, 'run': 2289, 'graztevski': 2290, 'klr209': 2291, 'heffington': 2292, 'dre': 2293, 'attained': 2294, '10018': 2295, 'silver': 2296, 'wing': 2297, 'aib': 2298, 'scored': 2299, 'component': 2300, 'mcewen': 2301, 'last)': 2302, 'november': 2303, '7th': 2304, 'september': 2305, '1987': 2306, '9000': 2307, '7000': 2308, 'ten': 2309, 'gets': 2310, 'period': 2311, '(s)he': 2312, '163': 2313, 'such': 2314, 'payam': 2315, '2500': 2316, 't': 2317, 'mk_man': 2318, 'pu_man': 2319, 'province': 2320, 'provinces': 2321, 'z': 2322, 'blues': 2323, '720': 2324, 'baseball': 2325, \"'boston\": 2326, \"stockings'\": 2327, 'experiences': 2328, \"manager's\": 2329, 'empty': 2330, \"'r'\": 2331, \"'yale\": 2332, \"university'\": 2333, '1960': 2334, '220': 2335, '75': 2336, 'lose': 2337, 'wins': 2338, 'postseasons': 2339, '1885': 2340, 'resulted': 2341, \"'1')\": 2342, 'columbia': 2343, '1907': 2344, 'len': 2345, 'barker': 2346, '1985': 2347, 'washington': 2348, 'nationals': 2349, 'franchises': 2350, \"'sigma'\": 2351, 'brands': 2352, 'broadcasted': 2353, 'hbs': 2354, 'cathrine': 2355, 'logon': 2356, 'jaskolski': 2357, 'langosh': 2358, 'son': 2359, 'advanced': 2360, 'julio': 2361, 'karson': 2362, 'zieme': 2363, 'bernie': 2364, 'choose': 2365, \"departments'\": 2366, '112': 2367, \"patients'\": 2368, 'prescriptions': 2369, 'dorian': 2370, 'nurse': 2371, 'she': 2372, 'thesisin': 2373, \"'senior'\": 2374, 'dose': 2375, 'specialized': 2376, '1928': 2377, '108': 2378, '107': 2379, '103': 2380, '105': 2381, '110': 2382, '109': 2383, 'output': 2384, 'marrotte': 2385, 'kirk': 2386, 'evelina': 2387, 'bromley': 2388, 'gell': 2389, 'tami': 2390, 'loria': 2391, 'ondersma': 2392, 'kawa': 2393, 'gordon': 2394, 'tarring': 2395, 'leia': 2396, 'chrissy': 2397, 'nabozny': 2398, 'madlock': 2399, 'first-grade': 2400, 'covin': 2401, 'jerome': 2402, 'fourth-grade': 2403, 'estimates': 2404, 'estimate': 2405, 'nicholas': 2406, 'meyer': 2407, '4500000': 2408, 'rv': 2409, 'marry': 2410, 'read': 2411, 'mg': 2412, 'proof': 2413, 'reader': 2414, \"'armani'\": 2415, 'hr': 2416, 'human': 2417, 'authorized': 2418, 'destroy': 2419, 'authorization': 2420, 'so': 2421, 'tracy': 2422, 'akw': 2423, 'hhh': 2424, 'cto': 2425, 'hou': 2426, 'eric': 2427, 'tai': 2428, 'davis': 2429, 'sent': 2430, \"'1986-08-26\": 2431, \"20:49:27'\": 2432, \"'1989-03-16\": 2433, \"18:27:16'\": 2434, 'patent': 2435, 'patents': 2436, 'hires': 2437, 'send': 2438, 'response': 2439, \"'regular'\": 2440, \"'omnis'\": 2441, \"'initial'\": 2442, \"'quo'\": 2443, 'leaders': 2444, \"'1989-04-24\": 2445, \"23:51:54'\": 2446, \"'sint'\": 2447, \"bob's\": 2448, \"alice's\": 2449, 'round': 2450, 'passwords': 2451, 'acknowledgement': 2452, 'urls': 2453, \"company's\": 2454, 'on-hold': 2455, 'conglomerate': 2456, 'talent': 2457, 'nomination': 2458, 'mailshot': 2459, \"'no\": 2460, \"response'\": 2461, \"'order'\": 2462, 'mtw': 2463, '268': 2464, 'b': 2465, 'mergenthaler': 2466, 'barton': 2467, 'minored': 2468, 'introduction': 2469, 'gradepoints': 2470, '520': 2471, 'en': 2472, 'chain': 2473, 'chains': 2474, 'costing': 2475, 'assignment': 2476, 'tn': 2477, 'multiple': 2478, 'supplies': 2479, 'keyboard': 2480, 'jeans': 2481, 'wy': 2482, 'clothes': 2483, 'transit': 2484, 'robinson': 2485, 'r-22': 2486, 'thing': 2487, \"customer's\": 2488, 'things': 2489, 'catholic': 2490, '1890': 2491, '1900': 2492, 'khanewal': 2493, 'blackville': 2494, 'miramichi': 2495, 'sold': 2496, 'scanner': 2497, 'frequently-used': 2498, 'mall': 2499, 'trying': 2500, 'decisions': 2501, 'charles': 2502, 'az': 2503, 'mid-field': 2504, 'android': 2505, 'apple': 2506, 'planned': 2507, 'harold': 2508, 'fja': 2509, 'filming': 2510, 'rob': 2511, 'dinning': 2512, '1000000': 2513, 'currency': 2514, 'feliciaberg': 2515, 'alaska': 2516, 'mastercard': 2517, 'bands': 2518, 'flash': 2519, 'perfomed': 2520, 'performing': 2521, 'drums': 2522, 'demon': 2523, 'kitty': 2524, 'rag': 2525, 'amsterdam': 2526, 'kiss': 2527, 'go:': 2528, 'hamburg': 2529, 'andy': 2530, 'founders': 2531, 'taiwan': 2532, 'creative': 2533, 'labs': 2534, '$180': 2535, '180': 2536, 'order)': 2537, 'dameon': 2538, 'frami': 2539, 'jolie': 2540, 'weber': 2541, 'berge': 2542, 'closure': 2543, 'lysanne': 2544, 'rem': 2545, 'aut': 2546, 'lacey': 2547, 'kenton': 2548, 'champlin': 2549, 'levels': 2550, 'pounds': 2551, '2018': 2552, 'louisville': 2553, 'hiram': 2554, '22': 2555, '08/30/2015': 2556, '2192': 2557, '8741': 2558, 'studied': 2559, \"'herbs'\": 2560, 'flax': 2561, \"'flax'\": 2562, \"'t'\": 2563, 'chervil': 2564, \"'chervil'\": 2565, \"'red'\": 2566, 'hot': 2567, \"'hot'\": 2568, \"'warm'\": 2569, 'completed': 2570, 'phl': 2571, 'anonymous': 2572, 'chocolate': 2573, 'wrau': 2574, 'vbogisich@example': 2575, 'temple': 2576, 'submitted': 2577, 'submit': 2578, 'l': 2579, 'allow': 2580, 'game1': 2581, 'royal': 2582, 'vivian': 2583, 'transportation': 2584, 'way': 2585, '660': 2586, 'shea': 2587, 'crescent': 2588, 'shopping': 2589, '254': 2590, 'ottilie': 2591, 'junction': 2592, 'marcelle': 2593, 'alison': 2594, 'rosalind': 2595, 'collectible': 2596, 'massively': 2597, 'multiplayer': 2598, 'shieber': 2599, 'widenius': 2600, 'alex': 2601, 'maudie': 2602, 'lake': 2603, 'geovannyton': 2604, '255': 2605, 'span': 2606, 'delivered': 2607, '2018-03-17': 2608, '07:13:53': 2609, 'julianaside': 2610, 'gleasonmouth': 2611, 'arizona': 2612, 'triumfall': 2613, 'gorgoroth': 2614, 'cutter': 2615, 'armed': 2616, 'schooner': 2617, 'third-rate': 2618, 'panama': 2619, 'malta': 2620, 'commanded': 2621, 'nanjing': 2622, 'jiangsu': 2623, 'shanghai': 2624, 'taizhou': 2625, 'zhejiang': 2626, 'february': 2627, 'mar': 2628, 'dec': 2629, 'feb': 2630, 'jun': 2631, '8000000': 2632, 'labour': 2633, 'vat': 2634, '6862': 2635, 'kaitlyn': 2636, 'knolls': 2637, 'buses': 2638, \"'thompson'\": 2639, \"'international'\": 2640, \"'noel\": 2641, \"cv'\": 2642, \"'graph\": 2643, \"'private\": 2644, \"'government'\": 2645, \"'gv'\": 2646, '‘smith’': 2647, \"'smith'\": 2648, 'rogers': 2649, 'carol': 2650, \"'matter\": 2651, \"time'\": 2652, \"'a\": 2653, 'puzzling': 2654, 'ssn': 2655, 'appellations': 2656, 'robert': 2657, 'biale': 2658, 'napa': 2659, 'monterey': 2660, 'zinfandel': 2661, 'st': 2662, 'helena': 2663, 'brander': 2664, '93': 2665, 'express': 2666, 'vehicles': 2667, 'ludie': 2668, 'damianfort': 2669, 'kohler': 2670, 'marina': 2671, 'classified': 2672, \"'good\": 2673, \"customer'\": 2674, 'lockmanfurt': 2675, 'jerry': 2676, 'prince': 2677, 'assistant': 2678, 'goodrich': 2679, 'goroka': 2680, 'iceland': 2681, 'cuba': 2682, 'argentina': 2683, '-50': 2684, 'greenland': 2685, 'canadian': 2686, 'kennedy': 2687, 'busiest': 2688, 'packing': 2689, '2009-01-01': 2690, '2010-01-01': 2691, '1975-01-01': 2692, '1976-01-01': 2693, 'placement': 2694, '2000-01-01': 2695, 'canceled': 2696, 'cancel': 2697, 'meters': 2698, 'designed': 2699, 'into': 2700, 'worldwide': 2701, 'alyson': 2702, \"'hey'\": 2703, 'weigh': 2704, '1970': 2705, 'amc': 2706, 'hornet': 2707, 'sportabout': 2708, '(sw)': 2709, '1974': 2710, 'european': 2711, 'mpg': 2712, 'edispl': 2713, 'general': 2714, 'motors': 2715, 'weighing': 2716, 'weighed': 2717, 'lighter': 2718, 'abbreviations': 2719, 'corresonding': 2720, \"'ual'\": 2721, 'alton': 2722, \"'ako'\": 2723, 'ato': 2724, \"'cvo'\": 2725, 'cvo': 2726, 'landing': 2727, 'abilene': 2728, 'land': 2729, 'robbin': 2730, 'pp': 2731, 'ad': 2732, \"'summer\": 2733, \"show'\": 2734, \"'korea'\": 2735, \"'welcome\": 2736, \"ny'\": 2737, \"'brazil'\": 2738, \"'ireland'\": 2739, 'little': 2740, 'lever': 2741, 'urban': 2742, '33': 2743, 'port': 2744, 'chelsea': 2745, 'engineering': 2746, 'bachelor': 2747, 'bachelors': 2748, 'carolina': 2749, 'graduate': 2750, 'permanent': 2751, 'current': 2752, 'h': 2753, 'permanently': 2754, 'haiti': 2755, '09700166582': 2756, 'joseph': 2757, 'kuhr': 2758, 'vietti': 2759, 'serial': 2760, 'option': 2761, 'rise': 2762, 'blue': 2763, 'beetle': 2764, \"channel's\": 2765, 'episodes': 2766, 'weekly': 2767, 'definition': 2768, \"countries'\": 2769, 'chang': 2770, 'pixel': 2771, 'aspect': 2772, 'finishes': 2773, \"'ca'\": 2774, 'voters': 2775, \"'tabatha\": 2776, \"gehling'\": 2777, 'anguilla': 2778, 'kabul': 2779, 'expectancies': 2780, 'angola': 2781, 'expected': 2782, 'gelderland': 2783, 'territory': 2784, 'beatrix': 2785, '1930': 2786, 'independence': 2787, 'america': 2788, '160000': 2789, '900000': 2790, 'cd': 2791, \"kyle's\": 2792, 'else': 2793, \"dogs's\": 2794, 'rarest': 2795, 'virginia': 2796, 'hawaii': 2797, 'treated': 2798, \"'west'\": 2799, \"'north'\": 2800, 'abandoned': 2801, 'combinations': 2802, '1948': 2803, '1949': 2804, '1945': 2805, '1955': 2806, 'properties': 2807, '56': 2808, \"'alabama'\": 2809, 'established': 2810, 'temporary': 2811, 'mentioned': 2812, \"'treasury'\": 2813, \"'homeland\": 2814, \"security'\": 2815, \"head's\": 2816, \"'ha'\": 2817, 'registed': 2818, \"'8'\": 2819, 'humity': 2820, 'normally': 2821, 'covers': 2822, 'availablility': 2823, 'mph': 2824, 'measurements': 2825, 'fog': 2826, 'rain': 2827, 'observed': 2828, 'foggy': 2829, 'rained': 2830, 'furthest': 2831, 'beginning': 2832, 'visiblity': 2833, \"city's\": 2834, \"stations'\": 2835, 'always': 2836, 'stated': 2837, 'writer': 2838, 'elaine': 2839, 'lee': 2840, '4000000': 2841, 'wiley': 2842, 'iron': 2843, 'posted': 2844, '‘swift’': 2845, '‘superstar’': 2846, '‘edu’': 2847, 'topic': 2848, \"'intern'\": 2849, 'tyler': 2850, 'swift': 2851, 'follower': 2852, 'airplanes': 2853, 'lengthes': 2854, 'headed': 2855, 'came': 2856, '737-800s': 2857, 'unaffected': 2858, 'egg': 2859, 'eggs': 2860, 'put': 2861, 'allery': 2862, 'allegry': 2863, 'consume': 2864, 'gross/total': 2865, \"album's\": 2866, 'illinois': 2867, \"aerosmith's\": 2868, 'aerosmith': 2869, 'cobham': 2870, 'cobam': 2871, \"gruber's\": 2872, 'aritist': 2873, 'reports': 2874, 'si': 2875, 'longest-serving': 2876, 'peoples': 2877, 'luca': 2878, 'ball': 2879, 'daan': 2880, 'dean': 2881, 'tune': 2882, '24': 2883, 'journal_committee': 2884, \"'photo'\": 2885, \"'4560596484842'\": 2886, 'firstname': 2887, 'harford': 2888, 'may': 2889, 'months': 2890, 'exceeding': 2891, 'rep': 2892, 'cound': 2893, \"'reggae'\": 2894, \"'rock'\": 2895, 'reggae': 2896, 'application': 2897, 'mendelian': 2898, 'inheritance': 2899, '(omim)': 2900, 'omim': 2901, 'medcines': 2902, \"'amisulpride'\": 2903, 'amisulpride': 2904, 'acts': 2905, 'inhibitors': 2906, \"'activator'\": 2907, 'activator': 2908, \"'no'\": 2909, 'capable': 2910, \"'activitor'\": 2911, 'activitor': 2912, 'ala': 2913, \"'ala'\": 2914, 'primary_conference': 2915, 'baketball': 2916, 'rom': 2917, \"'full'\": 2918, 'cells': 2919, 'colours': 2920, 'phons': 2921, 'usage': 2922, 'function': 2923, 'mib': 2924, 'modes': 2925, 'capitals': 2926, 'climbined': 2927, 'climbing': 2928, 'ascended': 2929, 'countains': 2930, '315': 2931, 'spans': 2932, 'lifespans': 2933, 'here': 2934, '(gender': 2935, 'away': 2936, '100%': 2937, 'causes': 2938, \"'foot\": 2939, \"injury'\": 2940, 'sources': 2941, 'free': 2942, \"'thiago\": 2943, \"motta'\": 2944, 'accident': 2945, 'league': 2946, 'leagues': 2947, 'dribbling': 2948, 'crossing': 2949, 'prefer': 2950, 'foot': 2951, '190cm': 2952, 'potential': 2953, 'td': 2954, 'garden': 2955, 'bell': 2956, 'centre': 2957, 'violin': 2958, 'sit': 2959, 'seat': 2960, 'instructure': 2961, 'like': 2962, 'deparments': 2963, 'deparment': 2964, 'semeseter': 2965, \"didnt'\": 2966, 'averaged': 2967, 'capacity)': 2968, '>': 2969, '“dar”': 2970, 'dar': 2971, 'debate': 2972, 'uniformed': 2973, 'uniform': 2974, \"'meaghan'\": 2975, 'orderes': 2976, 'whcih': 2977, '1830': 2978, '1840': 2979, 'pair': 2980, 'yeared': 2981, 'attendnance': 2982, 'draw': 2983, 'gives': 2984, \"user's\": 2985, 'birtle': 2986, 'occupations': 2987, 'coached': 2988, 'grow': 2989, '‘brown’': 2990, 'owner’s': 2991, '‘ee’': 2992, \"'ee'\": 2993, 'brown’s': 2994, 'customers’': 2995, 'accoung': 2996, 'stream': 2997, 'safari': 2998, 'os': 2999, 'client': 3000, \"'broadband'\": 3001, 'connection': 3002, \"'cproxy'\": 3003, \"'internet\": 3004, \"explorer'\": 3005, 'browswers': 3006, \"'fasterfox'\": 3007, 'supporting': 3008, \"'opera'\": 3009, 'suffered': 3010, 'instances': 3011, 'mascots': 3012, 'donated': 3013, 'triton': 3014, 'ihsaa': 3015, 'dat': 3016, 'refund': 3017, '76': 3018, \"'book\": 3019, 'collection': 3020, \"a'\": 3021, 'equals': 3022, 'due': 3023, \"'book'\": 3024, 'coupon': 3025, \"'check'\": 3026, \"'cutlery'\": 3027, 'sprint': 3028, 'tmobile': 3029, '64': 3030, 'centered': 3031, 'indstries': 3032, 'manager_name': 3033, \"'oil\": 3034, \"gas'\": 3035, 'billion': 3036, 'comapny': 3037, \"representatives'\": 3038, 'bradley': 3039, 'fordham': 3040, '34': 3041, \"'working'\": 3042, \"'paper'\": 3043, 'ups': 3044, 'ed': 3045, 'koby': 3046, 'mailed': 3047, 'mail': 3048, 'drafts': 3049, 'dependent': 3050, 'spouse': 3051, 'relation': 3052, 'dependents': 3053, 'houston': 3054, \"'marriage'\": 3055, \"'organizer'\": 3056, \"'dr\": 3057, \"'\": 3058, \"'kenyatta\": 3059, \"kuhn'\": 3060, 'successful': 3061, 'forname': 3062, 'lexicographic': 3063, 'nyy': 3064, \"'nyy'\": 3065, 'heaviest': 3066, '84': 3067, 'conferrred': 3068, 'entire': 3069, 'existence': 3070, 'graduates': 3071, 'graduated': 3072, 'uncertain': 3073, '“mike”': 3074, 'mike': 3075, 'field': 3076, 'ratingdate': 3077, 'lastly': 3078, 'finally': 3079, 'contributed': 3080, \"director's\": 3081, 'ignore': 3082, 'moviest': 3083, 'hat': 3084, 'britanny': 3085, 'safety': 3086, 'hispanics': 3087, 'hispanic': 3088, 'proportion': 3089, 'burden': 3090, 'burdens': 3091, 'seen': 3092, 'sweaz': 3093, 'could': 3094, 'according': 3095, 'priced': 3096, 'exceeds': 3097, 'n': 3098, 'benefits': 3099, 'overpayments': 3100, 'wat': 3101, 'fine': 3102, \"'schmidt\": 3103, \"lubowitz'\": 3104, 'electoral': 3105, 'registries': 3106, \"'electoral'\": 3107, 'fines': 3108, 'collected': 3109, \"'gottlieb\": 3110, 'becker': 3111, \"wyman'\": 3112, \"'en'\": 3113, 'manner': 3114, 'damange': 3115, 'occured': 3116, 'affecting': 3117, 'economic': 3118, 'matters': 3119, 'wales': 3120, 'experience': 3121, 'majored': 3122, \"'success'\": 3123, 'trucks': 3124, 'license': 3125, 'becoming': 3126, 'deliveries': 3127, 'author(s)': 3128, \"papers'\": 3129, \"paper's\": 3130, '1031': 3131, 'parkway': 3132, \"'1031\": 3133, \"parkway'\": 3134, '(actress)': 3135, 'actress': 3136, '(actresses)': 3137, 'hunger': 3138, 'roof': 3139, \"'hunger\": 3140, \"roof'\": 3141, 'pollock': 3142, \"'airport\": 3143, \"pollock'\": 3144, 'replacement': 3145, 'replace': 3146, '‘a’': 3147, 'mortage': 3148, 'mortgage': 3149, 'worst': 3150, 'lent': 3151, 'lended': 3152, 'specifically': 3153, '197': 3154, 'noise': 3155, 'summaries': 3156, 'rohan': 3157, 'violence': 3158, 'fanny': 3159, 'schuster': 3160, 'fahey': 3161, 'schultz': 3162, 'lyla': 3163, '918': 3164, 'visiting': 3165, \"engineer's\": 3166, 'coresponding': 3167, 'decriptions': 3168, 'recoreded': 3169, 'maintain': 3170, 'acquired': 3171, 'faulty': 3172, 'fixing': 3173, 'disposed': 3174, 'ascendingly': 3175, 'chargeable': 3176, 'concluded': 3177, 'majority': 3178, 'incur': 3179, 'authorities': 3180, 'early': 3181, 'late': 3182, \"'express'\": 3183, 'goes': 3184, 'amersham': 3185, 'chiltern': 3186, 'dept': 3187, 'birthdates': 3188, 'systmes': 3189, 'prof': 3190, 'ma': 3191, 'accoutning': 3192, 'gpas': 3193, 'lecturers': 3194, 'friendly-type': 3195, 'funiture': 3196, 'manufacturing': 3197, 'set': 3198, 'commissions': 3199, '2002-06-21': 3200, 'june': 3201, 'letters': 3202, 'arrange': 3203, 'previous': 3204, 'employment': 3205, '’t’': 3206, \"'j'\": 3207, 'making': 3208, 'j': 3209, 'lasts': 3210, 'hail': 3211, 'bangladeshi': 3212, 'oder': 3213, 'combined': 3214, 'british': 3215, 'receieved': 3216, 'right-handed': 3217, 'batters': 3218, 'batter': 3219, 'bats': 3220, 'offering': 3221, 'victories': 3222, '(that': 3223, 'tied': 3224, 'well-paid': 3225, '(have': 3226, 'information)': 3227, 'focal': 3228, 'mm': 3229, 'aperture': 3230, 'scheme': 3231, \"'morocco'\": 3232, \"'aberdare\": 3233, \"range'\": 3234, 'cameras': 3235, \"'olympus'\": 3236, \"'ethiopia'\": 3237, \"'toubkal\": 3238, \"atlas'\": 3239, \"'lasta\": 3240, \"massif'\": 3241, 'digital': 3242, 'big': 3243, 'ordering': 3244, 'percent)': 3245, \"programs'\": 3246, 'subjects': 3247, 'summed': 3248, 'stays': 3249, 'treats': 3250, 'nursing': 3251, \"physicians'\": 3252, \"physician's\": 3253, 'costly': 3254, 'fate': 3255, 'involve': 3256, 'shiips': 3257, 'fifth': 3258, 'retailing': 3259, 'employed': 3260, 'contained': 3261, 'presented': 3262, \"document's\": 3263, 'work:': 3264, 'progrects': 3265, 'researchers': 3266, \"'published'\": 3267, 'prefix': 3268, \"'initial\": 3269, \"application'\": 3270, 'initial': 3271, 'applications': 3272, \"'sponsor'\": 3273, 'generated': 3274, \"'2003-04-19\": 3275, \"15:06:20'\": 3276, \"'2016-03-15\": 3277, \"00:33:18'\": 3278, 'originate': 3279, 'doctors': 3280, 'print': 3281, 'whare': 3282, 'longest-lasting': 3283, 'friendship': 3284, \"zach's\": 3285, 'decoration': 3286, 'rounds': 3287, 'accesses': 3288, 'structures': 3289, 'username': 3290, 'usernames': 3291, 'image': 3292, 'whah': 3293, 'dining': 3294, 'trading': 3295, '4500': 3296, 'chairs': 3297, 'artwork': 3298, 'nominations': 3299, 'audiences': 3300, 'inside': 3301, 'fedex': 3302, 'minumum': 3303, 'htat': 3304, 'literacy': 3305, 'minor': 3306, 'dno': 3307, 'gradepoint': 3308, 'assignments': 3309, 'cumulative': 3310, 'aiports': 3311, 'aicrafts': 3312, \"'denesik\": 3313, 'sons': 3314, \"party'\": 3315, 'certain': 3316, \"'close'\": 3317, \"'2017-06-19\": 3318, \"02:59:21'\": 3319, \"'unsatisfied'\": 3320, 'parent': 3321, 'others': 3322, 'moved': 3323, \"'miss'\": 3324, 'foundation': 3325, 'everything': 3326, '2000000': 3327, 'headquarted': 3328, 'flagship': 3329, 'eqal': 3330, 'prominent': 3331, 'tahn': 3332, 'style': 3333, 'represented': 3334, 'louisiana': 3335, \"college's\": 3336, 'descennding': 3337, 'try': 3338, 'practiced': 3339, 'rejected': 3340, 'succeeded': 3341, '13000': 3342, '13': 3343, 'goal': 3344, \"'mid'-field\": 3345, 'carry': 3346, 'amongst': 3347, 'anywhere': 3348, 'store_name': 3349, 'pricy': 3350, 'columns': 3351, 'appearring': 3352, 'vocables': 3353, 'appear': 3354, \"manufacturers'\": 3355, 'manufactures': 3356, 'begins': 3357, 'manufacture': 3358, 'drive': 3359, 'drives': 3360, '$200': 3361, '$60': 3362, '$120': 3363, '$150': 3364, 'roads': 3365, 'goergia': 3366, 'cycles': 3367, 'reside': 3368, 'him': 3369, 'city_code': 3370, 'seeds': 3371, \"'seeds'\": 3372, 'typically': 3373, 'catnip': 3374, \"'catnip'\": 3375, 'yellow': 3376, \"'grade'\": 3377, 'laurel': 3378, \"'laurel'\": 3379, \"'fast'\": 3380, 'charactersitic': 3381, 'characteristic:': 3382, 'slow': 3383, \"'slow'\": 3384, 'measuerment': 3385, \"'herb'\": 3386, 'colored': 3387, 'handful': 3388, 'measured': 3389, \"'handful'\": 3390, 'found': 3391, '60000': 3392, 'junior': 3393, '(i': 3394, 'e': 3395, 'wheels': 3396, 'andaman': 3397, 'exp': 3398, 'railway': 3399, 'object': 3400, '(f': 3401, 'gender)': 3402, 'all-female': 3403, 'accomdate': 3404, 'diffrent': 3405, '‘donor’': 3406, 'sex)': 3407, 'complains': 3408, 'complained': 3409, 'custoemrs': 3410, 'gotten': 3411, 'achieved': 3412, \"'pur'\": 3413, \"attractions'\": 3414, 'numbered': 3415, 'sporty': 3416, '\\\\': 3417, 'far': 3418, 'pay': 3419, 'associate': 3420, '3300': 3421, 'widely': 3422, 'marks': 3423, \"cities'\": 3424, 'already': 3425, \"individual's\": 3426, 'enrico09@example': 3427, \"'enrico09@example\": 3428, \"com'\": 3429, 'possibly': 3430, 'driving': 3431, 'equity': 3432, 'shareholding': 3433, \"'iceland'\": 3434, 'iata': 3435, 'piloted': 3436, \"'billund\": 3437, \"airport'\": 3438, 'driven': 3439, 'mainly': 3440, \"'cargo'\": 3441, \"'catering\": 3442, \"services'\": 3443, 'operates': 3444, \"'film'\": 3445, \"'5'\": 3446, 'character': 3447, 'continues': 3448, \"parallax'\": 3449, \"pattern'\": 3450, 'naems': 3451, \"scientist's\": 3452, \"scientists'\": 3453, \"projects'\": 3454, 'needs': 3455, 'finish': 3456, 'neames': 3457, 'cases': 3458, 'scoring': 3459, 'glasgow': 3460, 'ananthapuri': 3461, 'yearly': 3462, 'exit': 3463, 'interchange': 3464, 'hosue': 3465, 'births': 3466, 'ryan': 3467, 'outsanding': 3468, 'moeny': 3469, 'histories': 3470, \"smith's\": 3471, 'ore': 3472, 'participates': 3473, '(or': 3474, 'elevation)': 3475, \"'orbit'\": 3476, 'orbit': 3477, \"airports'\": 3478, 'interanation': 3479, 'y': 3480, \"country's\": 3481, 'italian': 3482, \"'american\": 3483, \"order's\": 3484, 'deals': 3485, 'lexicographically': 3486, \"architects'\": 3487, 'construction': 3488, \"'grondzeiler'\": 3489, \"'donceel'\": 3490, 'architect': 3491, \"'kolob\": 3492, \"arch'\": 3493, \"'rainbow\": 3494, \"bridge'\": 3495, \"'moulin'\": 3496, 'archtect': 3497, 'publish': 3498, 'incorporated': 3499, 'heavier': 3500, 'carr': 3501, 'gallon(mpg)': 3502, 'minimu': 3503, 'saves': 3504, 'gasoline': 3505, 'say': 3506, 'wmodel': 3507, 'volvos': 3508, 'version(make)': 3509, 'versions': 3510, 'distinctive': 3511, 'weighted': 3512, 'carsw': 3513, 'ith': 3514, 'cylinder': 3515, 'makeid': 3516, 'al': 3517, \"'ford\": 3518, \"company'\": 3519, 'wthat': 3520, 'ford': 3521, \"'fiat'\": 3522, 'fiats': 3523, \"'ashley'\": 3524, \"'jetblue\": 3525, \"airways'\": 3526, \"'asy'\": 3527, 'asy': 3528, 'arrive': 3529, 'airilne': 3530, 'departures': 3531, 'sells': 3532, \"shops'\": 3533, 'shop;': 3534, \"'w'\": 3535, 'w': 3536, \"'ppt'\": 3537, 'commonly': 3538, 'presentation': 3539, \"'presentation'\": 3540, \"'customer\": 3541, \"reviews'\": 3542, 'commmon': 3543, 'towns': 3544, \"teacher's\": 3545, 'plaza': 3546, 'tournaments': 3547, '/': 3548, 'being': 3549, \"'captured'\": 3550, 'alphaetical': 3551, 'toll': 3552, 'situations': 3553, \"'boril'\": 3554, \"'brig'\": 3555, 'shipes': 3556, \"'kaloyan'\": 3557, \"'baldwin\": 3558, \"i'\": 3559, \"'225'\": 3560, \"'lettice'\": 3561, \"'hms\": 3562, \"atalanta'\": 3563, 'commanders': 3564, \"'english\": 3565, \"channel'\": 3566, \"'east'\": 3567, 'section_name': 3568, 'semesters': 3569, \"what's\": 3570, 'timmothy': 3571, 'timothy': 3572, 'holds': 3573, 'printed': 3574, \"course's\": 3575, 'describe': 3576, 'cartoones': 3577, '!': 3578, 'cartools': 3579, \"series's\": 3580, 'aired': 3581, 'produdction': 3582, 'choice': 3583, \"'jessie\": 3584, \"alloway'\": 3585, \"'kelly\": 3586, \"clauss'\": 3587, \"'al'\": 3588, 'independent': 3589, 'caribbean': 3590, 'countires': 3591, 'carribean': 3592, 'brazil’s': 3593, 'people’s': 3594, 'covered': 3595, 'considered': 3596, 'around': 3597, 'diverse': 3598, 'populace': 3599, 'langauges': 3600, 'whic`h': 3601, 'popuation': 3602, 'populated': 3603, '3000？': 3604, 'noth': 3605, 'orchestra': 3606, 'perform': 3607, 'theor': 3608, 'pairs': 3609, \"dog's\": 3610, 'owning': 3611, 'temporarily': 3612, 'moment': 3613, 'note': 3614, 'citizens': 3615, 'msot': 3616, 'sname': 3617, 'sing': 3618, 'features': 3619, 'aircon': 3620, 'houses': 3621}\n"
     ]
    }
   ],
   "source": [
    "print(inp_lang.word_index)"
   ]
  },
  {
   "cell_type": "code",
   "execution_count": 14,
   "metadata": {},
   "outputs": [],
   "source": [
    "BUFFER_SIZE = len(input_tensor_train)\n",
    "BATCH_SIZE = 64\n",
    "steps_per_epoch = len(input_tensor_train)//BATCH_SIZE\n",
    "embedding_dim = 100\n",
    "units = 175\n",
    "vocab_inp_size = len(inp_lang.word_index)+1\n",
    "vocab_tar_size = len(targ_lang.word_index)+1\n",
    "\n",
    "dataset = tf.data.Dataset.from_tensor_slices((input_tensor_train, target_tensor_train)).shuffle(BUFFER_SIZE)\n",
    "dataset = dataset.batch(BATCH_SIZE, drop_remainder=True)"
   ]
  },
  {
   "cell_type": "code",
   "execution_count": 15,
   "metadata": {},
   "outputs": [
    {
     "data": {
      "text/plain": [
       "(TensorShape([64, 44]), TensorShape([64, 130]))"
      ]
     },
     "execution_count": 15,
     "metadata": {},
     "output_type": "execute_result"
    }
   ],
   "source": [
    "example_input_batch, example_target_batch = next(iter(dataset))\n",
    "example_input_batch.shape, example_target_batch.shape"
   ]
  },
  {
   "cell_type": "code",
   "execution_count": 16,
   "metadata": {},
   "outputs": [],
   "source": [
    "class Encoder(tf.keras.Model):\n",
    "  def __init__(self, vocab_size, embedding_dim, enc_units, batch_sz):\n",
    "    super(Encoder, self).__init__()\n",
    "    self.batch_sz = batch_sz\n",
    "    self.enc_units = enc_units\n",
    "    self.embedding = tf.keras.layers.Embedding(vocab_size, embedding_dim)\n",
    "    self.gru = tf.keras.layers.GRU(self.enc_units,\n",
    "                                   return_sequences=True,\n",
    "                                   return_state=True,\n",
    "                                   recurrent_initializer='glorot_uniform')\n",
    "\n",
    "  def call(self, x, hidden):\n",
    "    x = self.embedding(x)\n",
    "    output, state = self.gru(x, initial_state = hidden)\n",
    "    return output, state\n",
    "\n",
    "  def initialize_hidden_state(self):\n",
    "    return tf.zeros((self.batch_sz, self.enc_units))"
   ]
  },
  {
   "cell_type": "code",
   "execution_count": 17,
   "metadata": {},
   "outputs": [],
   "source": [
    "encoder = Encoder(vocab_inp_size, embedding_dim, units, BATCH_SIZE)\n",
    "sample_hidden = encoder.initialize_hidden_state()\n",
    "sample_output, sample_hidden = encoder(example_input_batch, sample_hidden)"
   ]
  },
  {
   "cell_type": "code",
   "execution_count": 18,
   "metadata": {},
   "outputs": [],
   "source": [
    "class BahdanauAttention(tf.keras.layers.Layer):\n",
    "  def __init__(self, units):\n",
    "    super(BahdanauAttention, self).__init__()\n",
    "    self.W1 = tf.keras.layers.Dense(units)\n",
    "    self.W2 = tf.keras.layers.Dense(units)\n",
    "    self.V = tf.keras.layers.Dense(1)\n",
    "\n",
    "  def call(self, query, values):\n",
    "    # query hidden state shape == (batch_size, hidden size)\n",
    "    # query_with_time_axis shape == (batch_size, 1, hidden size)\n",
    "    # values shape == (batch_size, max_len, hidden size)\n",
    "    # we are doing this to broadcast addition along the time axis to calculate the score\n",
    "    query_with_time_axis = tf.expand_dims(query, 1)\n",
    "\n",
    "    # score shape == (batch_size, max_length, 1)\n",
    "    # we get 1 at the last axis because we are applying score to self.V\n",
    "    # the shape of the tensor before applying self.V is (batch_size, max_length, units)\n",
    "    score = self.V(tf.nn.tanh(\n",
    "        self.W1(query_with_time_axis) + self.W2(values)))\n",
    "\n",
    "    # attention_weights shape == (batch_size, max_length, 1)\n",
    "    attention_weights = tf.nn.softmax(score, axis=1)\n",
    "\n",
    "    # context_vector shape after sum == (batch_size, hidden_size)\n",
    "    context_vector = attention_weights * values\n",
    "    context_vector = tf.reduce_sum(context_vector, axis=1)\n",
    "\n",
    "    return context_vector, attention_weights"
   ]
  },
  {
   "cell_type": "code",
   "execution_count": 19,
   "metadata": {},
   "outputs": [],
   "source": [
    "attention_layer = BahdanauAttention(10)\n",
    "attention_result, attention_weights = attention_layer(sample_hidden, sample_output)"
   ]
  },
  {
   "cell_type": "code",
   "execution_count": 20,
   "metadata": {},
   "outputs": [],
   "source": [
    "class Decoder(tf.keras.Model):\n",
    "  def __init__(self, vocab_size, embedding_dim, dec_units, batch_sz):\n",
    "    super(Decoder, self).__init__()\n",
    "    self.batch_sz = batch_sz\n",
    "    self.dec_units = dec_units\n",
    "    self.embedding = tf.keras.layers.Embedding(vocab_size, embedding_dim)\n",
    "    self.gru = tf.keras.layers.GRU(self.dec_units,\n",
    "                                   return_sequences=True,\n",
    "                                   return_state=True,\n",
    "                                   recurrent_initializer='glorot_uniform')\n",
    "    self.fc = tf.keras.layers.Dense(vocab_size)\n",
    "\n",
    "    # used for attention\n",
    "    self.attention = BahdanauAttention(self.dec_units)\n",
    "\n",
    "  def call(self, x, hidden, enc_output):\n",
    "    # enc_output shape == (batch_size, max_length, hidden_size)\n",
    "    context_vector, attention_weights = self.attention(hidden, enc_output)\n",
    "\n",
    "    # x shape after passing through embedding == (batch_size, 1, embedding_dim)\n",
    "    x = self.embedding(x)\n",
    "\n",
    "    # x shape after concatenation == (batch_size, 1, embedding_dim + hidden_size)\n",
    "    x = tf.concat([tf.expand_dims(context_vector, 1), x], axis=-1)\n",
    "\n",
    "    # passing the concatenated vector to the GRU\n",
    "    output, state = self.gru(x)\n",
    "\n",
    "    # output shape == (batch_size * 1, hidden_size)\n",
    "    output = tf.reshape(output, (-1, output.shape[2]))\n",
    "\n",
    "    # output shape == (batch_size, vocab)\n",
    "    x = self.fc(output)\n",
    "\n",
    "    return x, state, attention_weights"
   ]
  },
  {
   "cell_type": "code",
   "execution_count": 21,
   "metadata": {},
   "outputs": [],
   "source": [
    "decoder = Decoder(vocab_tar_size, embedding_dim, units, BATCH_SIZE)\n",
    "sample_decoder_output, _, _ = decoder(tf.random.uniform((BATCH_SIZE, 1)),\n",
    "                                      sample_hidden, sample_output)"
   ]
  },
  {
   "cell_type": "code",
   "execution_count": 22,
   "metadata": {},
   "outputs": [],
   "source": [
    "optimizer = tf.keras.optimizers.Adam()\n",
    "loss_object = tf.keras.losses.SparseCategoricalCrossentropy(\n",
    "    from_logits=True, reduction='none')\n",
    "\n",
    "def loss_function(real, pred):\n",
    "  mask = tf.math.logical_not(tf.math.equal(real, 0))\n",
    "  loss_ = loss_object(real, pred)\n",
    "\n",
    "  mask = tf.cast(mask, dtype=loss_.dtype)\n",
    "  loss_ *= mask\n",
    "\n",
    "  return tf.reduce_mean(loss_)"
   ]
  },
  {
   "cell_type": "code",
   "execution_count": 23,
   "metadata": {},
   "outputs": [],
   "source": [
    "checkpoint_dir = '../training_checkpoints_more1'\n",
    "checkpoint_prefix = os.path.join(checkpoint_dir, \"ckpt\")\n",
    "checkpoint = tf.train.Checkpoint(optimizer=optimizer,\n",
    "                                 encoder=encoder,\n",
    "                                 decoder=decoder)"
   ]
  },
  {
   "cell_type": "code",
   "execution_count": 24,
   "metadata": {},
   "outputs": [],
   "source": [
    "def evaluate(sentence):\n",
    "  attention_plot = np.zeros((max_length_targ, max_length_inp))\n",
    "\n",
    "  sentence = preprocess_sentence(sentence)\n",
    "\n",
    "  inputs = [inp_lang.word_index[i] for i in sentence.split(' ')]\n",
    "  inputs = tf.keras.preprocessing.sequence.pad_sequences([inputs],\n",
    "                                                         maxlen=max_length_inp,\n",
    "                                                         padding='post')\n",
    "  inputs = tf.convert_to_tensor(inputs)\n",
    "\n",
    "  result = ''\n",
    "\n",
    "  hidden = [tf.zeros((1, units))]\n",
    "  enc_out, enc_hidden = encoder(inputs, hidden)\n",
    "\n",
    "  dec_hidden = enc_hidden\n",
    "  dec_input = tf.expand_dims([targ_lang.word_index['<start>']], 0)\n",
    "\n",
    "  for t in range(max_length_targ):\n",
    "    predictions, dec_hidden, attention_weights = decoder(dec_input,\n",
    "                                                         dec_hidden,\n",
    "                                                         enc_out)\n",
    "\n",
    "    # storing the attention weights to plot later on\n",
    "    attention_weights = tf.reshape(attention_weights, (-1, ))\n",
    "    attention_plot[t] = attention_weights.numpy()\n",
    "\n",
    "    predicted_id = tf.argmax(predictions[0]).numpy()\n",
    "\n",
    "    result += targ_lang.index_word[predicted_id] + ' '\n",
    "    \n",
    "\n",
    "    if targ_lang.index_word[predicted_id] == '<end>':\n",
    "      return result, sentence, attention_plot\n",
    "\n",
    "    # the predicted ID is fed back into the model\n",
    "    dec_input = tf.expand_dims([predicted_id], 0)\n",
    "\n",
    "  return result, sentence, attention_plot"
   ]
  },
  {
   "cell_type": "code",
   "execution_count": 25,
   "metadata": {},
   "outputs": [],
   "source": [
    "# function for plotting the attention weights\n",
    "def plot_attention(attention, sentence, predicted_sentence):\n",
    "  fig = plt.figure(figsize=(10,10))\n",
    "  ax = fig.add_subplot(1, 1, 1)\n",
    "  ax.matshow(attention, cmap='viridis')\n",
    "\n",
    "  fontdict = {'fontsize': 14}\n",
    "\n",
    "  ax.set_xticklabels([''] + sentence, fontdict=fontdict, rotation=90)\n",
    "  ax.set_yticklabels([''] + predicted_sentence, fontdict=fontdict)\n",
    "\n",
    "  ax.xaxis.set_major_locator(ticker.MultipleLocator(1))\n",
    "  ax.yaxis.set_major_locator(ticker.MultipleLocator(1))\n",
    "\n",
    "  plt.show()"
   ]
  },
  {
   "cell_type": "code",
   "execution_count": 26,
   "metadata": {},
   "outputs": [],
   "source": [
    "def translate(sentence):\n",
    "  result, sentence, attention_plot = evaluate(sentence)\n",
    "\n",
    "#   print('Input: %s' % (sentence))\n",
    "  print('Predicted translation: {}'.format(result))\n",
    "\n",
    "  attention_plot = attention_plot[:len(result.split(' ')), :len(sentence.split(' '))]\n",
    "  plot_attention(attention_plot, sentence.split(' '), result.split(' '))"
   ]
  },
  {
   "cell_type": "code",
   "execution_count": 27,
   "metadata": {},
   "outputs": [
    {
     "data": {
      "text/plain": [
       "<tensorflow.python.training.tracking.util.CheckpointLoadStatus at 0x282225f0208>"
      ]
     },
     "execution_count": 27,
     "metadata": {},
     "output_type": "execute_result"
    }
   ],
   "source": [
    "checkpoint.restore(tf.train.latest_checkpoint(checkpoint_dir))"
   ]
  },
  {
   "cell_type": "code",
   "execution_count": 28,
   "metadata": {},
   "outputs": [
    {
     "name": "stdout",
     "output_type": "stream",
     "text": [
      "Predicted translation: select max(area_code) , min(weeks_on_top) from rating) <end> \n"
     ]
    },
    {
     "data": {
      "image/png": "[encoded data removed]",
      "text/plain": [
       "<Figure size 720x720 with 1 Axes>"
      ]
     },
     "metadata": {
      "needs_background": "light"
     },
     "output_type": "display_data"
    }
   ],
   "source": [
    "translate(\"what is the average rating given in department reviews\")"
   ]
  },
  {
   "cell_type": "code",
   "execution_count": 29,
   "metadata": {},
   "outputs": [
    {
     "name": "stdout",
     "output_type": "stream",
     "text": [
      "Predicted translation: select distinct t1 . age from management as t2 on t1 . head_id = t2 . head_id where t2 . temporary_acting = 'yes' <end> \n"
     ]
    },
    {
     "data": {
      "image/png": "[encoded data removed]",
      "text/plain": [
       "<Figure size 720x720 with 1 Axes>"
      ]
     },
     "metadata": {
      "needs_background": "light"
     },
     "output_type": "display_data"
    }
   ],
   "source": [
    "translate(\"What are the distinct ages of the heads who are acting?\")"
   ]
  },
  {
   "cell_type": "code",
   "execution_count": 30,
   "metadata": {},
   "outputs": [
    {
     "name": "stdout",
     "output_type": "stream",
     "text": [
      "Predicted translation: select player from course <end> \n"
     ]
    },
    {
     "data": {
      "image/png": "[encoded data removed]",
      "text/plain": [
       "<Figure size 720x720 with 1 Axes>"
      ]
     },
     "metadata": {
      "needs_background": "light"
     },
     "output_type": "display_data"
    }
   ],
   "source": [
    "translate(\"LIST ALL THE DEPARTMENTS IN THE COLLEGE\")"
   ]
  },
  {
   "cell_type": "code",
   "execution_count": 31,
   "metadata": {},
   "outputs": [],
   "source": [
    "def translate1(sentence):\n",
    "    result, sentence, attention_plot = evaluate(sentence)\n",
    "    return result"
   ]
  },
  {
   "cell_type": "code",
   "execution_count": 32,
   "metadata": {},
   "outputs": [],
   "source": [
    "SQL_key = ['ON','FROM', 'REPLACE', 'SELECT', 'INSERT', 'AS', 'IS', 'TRUNCATE', 'EXISTS', 'VALUES', 'PRIMARY', 'MAX', 'UNION', 'A', 'TABLE', 'JOIN', 'UPDATE', 'ALL', 'OR', 'NULL', 'ALTER', 'TOP', 'AND', 'DELETE', 'LEFT', 'IN', 'ANY', 'SQL', 'RIGHT', 'HAVING', 'KEY', 'DATABASE', 'DESC', 'EXEC', 'COUNT', 'CONSTRAINT', 'INDEX', 'GROUP', 'PROCEDURE', 'FOREIGN', 'LIMIT', 'BACKUP', 'OUTER', 'ORDER', 'WHERE', 'DEFAULT', 'DROP', 'CHECK', 'NOT', 'ROWNUM', 'ADD', 'AVG', 'MIN', 'INTO', 'CASE', 'FULL', 'VIEW', 'DISTINCT', 'ASC', 'UNIQUE', 'SUM', 'LIKE', 'BY', 'BETWEEN', 'INNER', 'COLUMN', 'SET', 'CREATE']\n",
    "operators = ['.','\\\"','\\'','=', '>', '<', '>', '=', '<=', '<>', '+', '-', '*', '/', '%', '+=', '-=', '*=', '/=', '%=', '(', ')']\n",
    "\n",
    "def pre_proc(x):\n",
    "    resp = []\n",
    "    resp.append(\"select\")\n",
    "    str1 = x\n",
    "    for i in word_tokenize(str1)[1:]:\n",
    "        if(i.upper() not in SQL_key and i not in operators):\n",
    "            resp.append('O')\n",
    "        else:\n",
    "            resp.append(i)\n",
    "    return resp\n",
    "\n",
    "def tag_imp(x):\n",
    "    resp = []\n",
    "    x = pre_proc(x)\n",
    "    resp.append(\"B-KEY\")\n",
    "    for i in x[1:]:\n",
    "        if(i.upper() in SQL_key):\n",
    "            if(resp[-1] == \"B-KEY\"):\n",
    "                resp.append(\"I-key\")\n",
    "            else:\n",
    "                resp.append(\"B-KEY\")\n",
    "        elif(i in operators):\n",
    "            if(resp[-1] == \"B-op\"):\n",
    "                resp.append(\"I-op\")\n",
    "            else:\n",
    "                resp.append(\"B-op\")\n",
    "        elif(i == \"O\"):\n",
    "            if(resp[-1] == \"B-tbl\"):\n",
    "                resp.append(\"I-tbl\")\n",
    "            else:\n",
    "                resp.append(\"B-tbl\")\n",
    "        else:\n",
    "            resp.append(\"O\")\n",
    "    return resp"
   ]
  },
  {
   "cell_type": "code",
   "execution_count": 36,
   "metadata": {},
   "outputs": [],
   "source": [
    "def eval_test(test_data):\n",
    "    y_pred = []\n",
    "    y = []\n",
    "    questions = []\n",
    "    queries = []\n",
    "    \n",
    "    for i in range(len(test_data)):\n",
    "        questions.append(test_data[i])\n",
    "    \n",
    "    with open(\"C:\\\\Kshitij\\\\DEV\\\\Datasets\\\\spider\\\\train_others.json\", 'r') as f:\n",
    "        datastore = json.load(f)\n",
    "\n",
    "    for i in range(len(datastore)):\n",
    "        queries.append(preprocess_sentence(datastore[i]['query']))\n",
    "    \n",
    "    def dumb_token(sent):\n",
    "        sent1 = re.findall(r\"\\'[A-Z,a-z]\",sent)\n",
    "        if(len(sent1)>0):\n",
    "            sent2 = sent.replace(sent1[0],\"'\"+\" \"+sent1[0][1:])\n",
    "            return sent2\n",
    "        else:\n",
    "            return sent\n",
    "    \n",
    "    for i in range(len(queries)):\n",
    "        actual_query = dumb_token(queries[i].lower())\n",
    "        pred_query = translate1(questions[i])\n",
    "        pred_query = dumb_token(pred_query[:-6])\n",
    "        \n",
    "        y.append(tag_imp(actual_query))\n",
    "        y_pred.append(tag_imp(pred_query))\n",
    "        print(y)\n",
    "        print(y_pred)\n",
    "        \n",
    "        break\n",
    "        \n",
    "    accuracy = 0\n",
    "\n",
    "    for i in range(len(y)):\n",
    "        acc_query = accuracy_score(y[i],y_pred[i])\n",
    "        accuracy += acc_query\n",
    "    \n",
    "    print(\"ACCURACY:\")\n",
    "    print(accuracy/len(y))"
   ]
  },
  {
   "cell_type": "code",
   "execution_count": 37,
   "metadata": {},
   "outputs": [],
   "source": [
    "dbfile = open('C:\\\\Kshitij\\\\DEV\\\\Datasets\\\\spider\\\\analysis\\\\test_questions_spider.pickle', 'rb')      \n",
    "questions_test = pickle.load(dbfile) \n",
    "dbfile.close()"
   ]
  },
  {
   "cell_type": "code",
   "execution_count": 38,
   "metadata": {},
   "outputs": [
    {
     "name": "stdout",
     "output_type": "stream",
     "text": [
      "[['B-KEY', 'B-tbl', 'B-op', 'B-KEY', 'B-tbl', 'B-KEY', 'B-tbl', 'B-KEY', 'B-tbl', 'B-op', 'I-op', 'B-KEY', 'I-key', 'B-op', 'B-tbl', 'B-op', 'B-KEY', 'B-tbl', 'B-KEY', 'B-tbl', 'B-op', 'B-tbl', 'B-op', 'B-KEY', 'B-tbl', 'B-op', 'B-tbl', 'I-tbl', 'B-op', 'B-tbl', 'B-op']]\n",
      "[['B-KEY', 'B-op', 'B-KEY', 'B-tbl', 'B-KEY', 'B-tbl', 'B-op', 'B-tbl']]\n",
      "ACCURACY:\n",
      "0.03225806451612903\n"
     ]
    }
   ],
   "source": [
    "eval_test(questions_test)"
   ]
  }
 ],
 "metadata": {
  "kernelspec": {
   "display_name": "Python 3",
   "language": "python",
   "name": "python3"
  },
  "language_info": {
   "codemirror_mode": {
    "name": "ipython",
    "version": 3
   },
   "file_extension": ".py",
   "mimetype": "text/x-python",
   "name": "python",
   "nbconvert_exporter": "python",
   "pygments_lexer": "ipython3",
   "version": "3.7.4"
  }
 },
 "nbformat": 4,
 "nbformat_minor": 2
}
