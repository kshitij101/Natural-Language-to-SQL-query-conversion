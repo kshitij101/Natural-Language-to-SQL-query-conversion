{
 "cells": [
  {
   "cell_type": "code",
   "execution_count": 1,
   "metadata": {},
   "outputs": [],
   "source": [
    "import tensorflow as tf\n",
    "\n",
    "import matplotlib.pyplot as plt\n",
    "import matplotlib.ticker as ticker\n",
    "from sklearn.model_selection import train_test_split\n",
    "\n",
    "import unicodedata\n",
    "import re\n",
    "import numpy as np\n",
    "import os\n",
    "import io\n",
    "import time\n",
    "import json"
   ]
  },
  {
   "cell_type": "code",
   "execution_count": 2,
   "metadata": {},
   "outputs": [],
   "source": [
    "path_to_file = \"C:\\\\Kshitij\\\\DEV\\\\Datasets\\\\spider\\\\train_spider.json\""
   ]
  },
  {
   "cell_type": "code",
   "execution_count": 3,
   "metadata": {},
   "outputs": [],
   "source": [
    "# Converts the unicode file to ascii\n",
    "def unicode_to_ascii(s):\n",
    "  return ''.join(c for c in unicodedata.normalize('NFD', s)\n",
    "      if unicodedata.category(c) != 'Mn')\n",
    "\n",
    "\n",
    "def preprocess_sentence(w):\n",
    "  w = unicode_to_ascii(w.lower().strip())\n",
    "  # creating a space between a word and the punctuation following it\n",
    "  # eg: \"he is a boy.\" => \"he is a boy .\"\n",
    "  # Reference:- https://stackoverflow.com/questions/3645931/python-padding-punctuation-with-white-spaces-keeping-punctuation\n",
    "  w = re.sub(r\"([?.!,¿])\", r\" \\1 \", w)\n",
    "  w = re.sub(r'[\" \"]+', \" \", w)\n",
    "\n",
    "  # replacing everything with space except (a-z, A-Z, \".\", \"?\", \"!\", \",\")\n",
    "  #w = re.sub(r\"[^a-zA-Z?.!,¿]+\", \" \", w)\n",
    "  w = w.strip()\n",
    "\n",
    "  # adding a start and an end token to the sentence\n",
    "  # so that the model know when to start and stop predicting.\n",
    "  w = '<start> ' + w + ' <end>'\n",
    "  return w"
   ]
  },
  {
   "cell_type": "code",
   "execution_count": 4,
   "metadata": {},
   "outputs": [
    {
     "name": "stdout",
     "output_type": "stream",
     "text": [
      "<start> may i borrow this book ? <end>\n",
      "b'<start> select count(*) from head where age > 56 <end>'\n"
     ]
    }
   ],
   "source": [
    "en_sentence = u\"May I borrow this book?\"\n",
    "sp_sentence = u\"SELECT count(*) FROM head WHERE age  >  56\"\n",
    "print(preprocess_sentence(en_sentence))\n",
    "print(preprocess_sentence(sp_sentence).encode('utf-8'))"
   ]
  },
  {
   "cell_type": "code",
   "execution_count": 5,
   "metadata": {},
   "outputs": [],
   "source": [
    "def create_dataset(path_to_file,num_examples):\n",
    "    queries =[]\n",
    "    questions = []\n",
    "    with open(path_to_file, 'r') as f:\n",
    "        datastore = json.load(f)\n",
    "\n",
    "    for i in range(len(datastore)):\n",
    "        queries.append(preprocess_sentence(datastore[i]['query']))\n",
    "        questions.append(preprocess_sentence(datastore[i]['question']))\n",
    "        \n",
    "    return queries,questions "
   ]
  },
  {
   "cell_type": "code",
   "execution_count": 6,
   "metadata": {},
   "outputs": [],
   "source": [
    "def max_length(tensor):\n",
    "  return max(len(t) for t in tensor)"
   ]
  },
  {
   "cell_type": "code",
   "execution_count": 7,
   "metadata": {},
   "outputs": [],
   "source": [
    "def tokenize(lang):\n",
    "  lang_tokenizer = tf.keras.preprocessing.text.Tokenizer(\n",
    "      filters='')\n",
    "  lang_tokenizer.fit_on_texts(lang)\n",
    "\n",
    "  tensor = lang_tokenizer.texts_to_sequences(lang)\n",
    "\n",
    "  tensor = tf.keras.preprocessing.sequence.pad_sequences(tensor,\n",
    "                                                         padding='post')\n",
    "\n",
    "  return tensor, lang_tokenizer"
   ]
  },
  {
   "cell_type": "code",
   "execution_count": 8,
   "metadata": {},
   "outputs": [],
   "source": [
    "def load_dataset(path, num_examples=None):\n",
    "  # creating cleaned input, output pairs\n",
    "  targ_lang, inp_lang = create_dataset(path, num_examples)\n",
    "\n",
    "  input_tensor, inp_lang_tokenizer = tokenize(inp_lang)\n",
    "  target_tensor, targ_lang_tokenizer = tokenize(targ_lang)\n",
    "\n",
    "  return input_tensor, target_tensor, inp_lang_tokenizer, targ_lang_tokenizer"
   ]
  },
  {
   "cell_type": "code",
   "execution_count": 9,
   "metadata": {},
   "outputs": [],
   "source": [
    "# Try experimenting with the size of that dataset\n",
    "num_examples = 3000\n",
    "input_tensor, target_tensor, inp_lang, targ_lang = load_dataset(path_to_file, num_examples)\n",
    "\n",
    "# Calculate max_length of the target tensors\n",
    "max_length_targ, max_length_inp = max_length(target_tensor), max_length(input_tensor)"
   ]
  },
  {
   "cell_type": "code",
   "execution_count": 10,
   "metadata": {},
   "outputs": [
    {
     "name": "stdout",
     "output_type": "stream",
     "text": [
      "5600 5600 1400 1400\n"
     ]
    }
   ],
   "source": [
    "# Creating training and validation sets using an 80-20 split\n",
    "input_tensor_train, input_tensor_val, target_tensor_train, target_tensor_val = train_test_split(input_tensor, target_tensor, test_size=0.2)\n",
    "\n",
    "# Show length\n",
    "print(len(input_tensor_train), len(target_tensor_train), len(input_tensor_val), len(target_tensor_val))"
   ]
  },
  {
   "cell_type": "code",
   "execution_count": 11,
   "metadata": {},
   "outputs": [],
   "source": [
    "def convert(lang, tensor):\n",
    "  for t in tensor:\n",
    "    if t!=0:\n",
    "      print (\"%d ----> %s\" % (t, lang.index_word[t]))"
   ]
  },
  {
   "cell_type": "code",
   "execution_count": 12,
   "metadata": {},
   "outputs": [
    {
     "name": "stdout",
     "output_type": "stream",
     "text": [
      "Input Language; index to word mapping\n",
      "2 ----> <start>\n",
      "24 ----> show\n",
      "1 ----> the\n",
      "696 ----> outcome\n",
      "52 ----> code\n",
      "4 ----> of\n",
      "1044 ----> mailshots\n",
      "409 ----> along\n",
      "16 ----> with\n",
      "1 ----> the\n",
      "17 ----> number\n",
      "4 ----> of\n",
      "1044 ----> mailshots\n",
      "10 ----> in\n",
      "27 ----> each\n",
      "696 ----> outcome\n",
      "52 ----> code\n",
      "6 ----> .\n",
      "3 ----> <end>\n",
      "\n",
      "Target Language; index to word mapping\n",
      "7 ----> <start>\n",
      "5 ----> select\n",
      "430 ----> outcome_code\n",
      "14 ----> ,\n",
      "16 ----> count(*)\n",
      "4 ----> from\n",
      "1339 ----> mailshot_customers\n",
      "17 ----> group\n",
      "13 ----> by\n",
      "430 ----> outcome_code\n",
      "8 ----> <end>\n"
     ]
    }
   ],
   "source": [
    "print (\"Input Language; index to word mapping\")\n",
    "convert(inp_lang, input_tensor_train[0])\n",
    "print ()\n",
    "print (\"Target Language; index to word mapping\")\n",
    "convert(targ_lang, target_tensor_train[0])"
   ]
  },
  {
   "cell_type": "code",
   "execution_count": 13,
   "metadata": {},
   "outputs": [],
   "source": [
    "BUFFER_SIZE = len(input_tensor_train)\n",
    "BATCH_SIZE = 64\n",
    "steps_per_epoch = len(input_tensor_train)//BATCH_SIZE\n",
    "embedding_dim = 100\n",
    "units = 180\n",
    "vocab_inp_size = len(inp_lang.word_index)+1\n",
    "vocab_tar_size = len(targ_lang.word_index)+1\n",
    "\n",
    "dataset = tf.data.Dataset.from_tensor_slices((input_tensor_train, target_tensor_train)).shuffle(BUFFER_SIZE)\n",
    "dataset = dataset.batch(BATCH_SIZE, drop_remainder=True)"
   ]
  },
  {
   "cell_type": "code",
   "execution_count": 14,
   "metadata": {},
   "outputs": [
    {
     "data": {
      "text/plain": [
       "(TensorShape([64, 44]), TensorShape([64, 130]))"
      ]
     },
     "execution_count": 14,
     "metadata": {},
     "output_type": "execute_result"
    }
   ],
   "source": [
    "example_input_batch, example_target_batch = next(iter(dataset))\n",
    "example_input_batch.shape, example_target_batch.shape"
   ]
  },
  {
   "cell_type": "code",
   "execution_count": 15,
   "metadata": {},
   "outputs": [],
   "source": [
    "class Encoder(tf.keras.Model):\n",
    "  def __init__(self, vocab_size, embedding_dim, enc_units, batch_sz):\n",
    "    super(Encoder, self).__init__()\n",
    "    self.batch_sz = batch_sz\n",
    "    self.enc_units = enc_units\n",
    "    self.embedding = tf.keras.layers.Embedding(vocab_size, embedding_dim)\n",
    "    self.gru = tf.keras.layers.GRU(self.enc_units,\n",
    "                                   return_sequences=True,\n",
    "                                   return_state=True,\n",
    "                                   recurrent_initializer='glorot_uniform')\n",
    "\n",
    "  def call(self, x, hidden):\n",
    "    x = self.embedding(x)\n",
    "    output, state = self.gru(x, initial_state = hidden)\n",
    "    return output, state\n",
    "\n",
    "  def initialize_hidden_state(self):\n",
    "    return tf.zeros((self.batch_sz, self.enc_units))"
   ]
  },
  {
   "cell_type": "code",
   "execution_count": 16,
   "metadata": {},
   "outputs": [
    {
     "name": "stdout",
     "output_type": "stream",
     "text": [
      "Encoder output shape: (batch size, sequence length, units) (64, 44, 180)\n",
      "Encoder Hidden state shape: (batch size, units) (64, 180)\n"
     ]
    }
   ],
   "source": [
    "encoder = Encoder(vocab_inp_size, embedding_dim, units, BATCH_SIZE)\n",
    "\n",
    "# sample input\n",
    "sample_hidden = encoder.initialize_hidden_state()\n",
    "sample_output, sample_hidden = encoder(example_input_batch, sample_hidden)\n",
    "print ('Encoder output shape: (batch size, sequence length, units) {}'.format(sample_output.shape))\n",
    "print ('Encoder Hidden state shape: (batch size, units) {}'.format(sample_hidden.shape))"
   ]
  },
  {
   "cell_type": "code",
   "execution_count": 17,
   "metadata": {},
   "outputs": [],
   "source": [
    "class BahdanauAttention(tf.keras.layers.Layer):\n",
    "  def __init__(self, units):\n",
    "    super(BahdanauAttention, self).__init__()\n",
    "    self.W1 = tf.keras.layers.Dense(units)\n",
    "    self.W2 = tf.keras.layers.Dense(units)\n",
    "    self.V = tf.keras.layers.Dense(1)\n",
    "\n",
    "  def call(self, query, values):\n",
    "    # query hidden state shape == (batch_size, hidden size)\n",
    "    # query_with_time_axis shape == (batch_size, 1, hidden size)\n",
    "    # values shape == (batch_size, max_len, hidden size)\n",
    "    # we are doing this to broadcast addition along the time axis to calculate the score\n",
    "    query_with_time_axis = tf.expand_dims(query, 1)\n",
    "\n",
    "    # score shape == (batch_size, max_length, 1)\n",
    "    # we get 1 at the last axis because we are applying score to self.V\n",
    "    # the shape of the tensor before applying self.V is (batch_size, max_length, units)\n",
    "    score = self.V(tf.nn.tanh(\n",
    "        self.W1(query_with_time_axis) + self.W2(values)))\n",
    "\n",
    "    # attention_weights shape == (batch_size, max_length, 1)\n",
    "    attention_weights = tf.nn.softmax(score, axis=1)\n",
    "\n",
    "    # context_vector shape after sum == (batch_size, hidden_size)\n",
    "    context_vector = attention_weights * values\n",
    "    context_vector = tf.reduce_sum(context_vector, axis=1)\n",
    "\n",
    "    return context_vector, attention_weights"
   ]
  },
  {
   "cell_type": "code",
   "execution_count": 18,
   "metadata": {},
   "outputs": [
    {
     "name": "stdout",
     "output_type": "stream",
     "text": [
      "Attention result shape: (batch size, units) (64, 180)\n",
      "Attention weights shape: (batch_size, sequence_length, 1) (64, 44, 1)\n"
     ]
    }
   ],
   "source": [
    "attention_layer = BahdanauAttention(10)\n",
    "attention_result, attention_weights = attention_layer(sample_hidden, sample_output)\n",
    "\n",
    "print(\"Attention result shape: (batch size, units) {}\".format(attention_result.shape))\n",
    "print(\"Attention weights shape: (batch_size, sequence_length, 1) {}\".format(attention_weights.shape))"
   ]
  },
  {
   "cell_type": "code",
   "execution_count": 19,
   "metadata": {},
   "outputs": [],
   "source": [
    "class Decoder(tf.keras.Model):\n",
    "  def __init__(self, vocab_size, embedding_dim, dec_units, batch_sz):\n",
    "    super(Decoder, self).__init__()\n",
    "    self.batch_sz = batch_sz\n",
    "    self.dec_units = dec_units\n",
    "    self.embedding = tf.keras.layers.Embedding(vocab_size, embedding_dim)\n",
    "    self.gru = tf.keras.layers.GRU(self.dec_units,\n",
    "                                   return_sequences=True,\n",
    "                                   return_state=True,\n",
    "                                   recurrent_initializer='glorot_uniform')\n",
    "    self.fc = tf.keras.layers.Dense(vocab_size)\n",
    "\n",
    "    # used for attention\n",
    "    self.attention = BahdanauAttention(self.dec_units)\n",
    "\n",
    "  def call(self, x, hidden, enc_output):\n",
    "    # enc_output shape == (batch_size, max_length, hidden_size)\n",
    "    context_vector, attention_weights = self.attention(hidden, enc_output)\n",
    "\n",
    "    # x shape after passing through embedding == (batch_size, 1, embedding_dim)\n",
    "    x = self.embedding(x)\n",
    "\n",
    "    # x shape after concatenation == (batch_size, 1, embedding_dim + hidden_size)\n",
    "    x = tf.concat([tf.expand_dims(context_vector, 1), x], axis=-1)\n",
    "\n",
    "    # passing the concatenated vector to the GRU\n",
    "    output, state = self.gru(x)\n",
    "\n",
    "    # output shape == (batch_size * 1, hidden_size)\n",
    "    output = tf.reshape(output, (-1, output.shape[2]))\n",
    "\n",
    "    # output shape == (batch_size, vocab)\n",
    "    x = self.fc(output)\n",
    "\n",
    "    return x, state, attention_weights"
   ]
  },
  {
   "cell_type": "code",
   "execution_count": 20,
   "metadata": {},
   "outputs": [
    {
     "name": "stdout",
     "output_type": "stream",
     "text": [
      "Decoder output shape: (batch_size, vocab size) (64, 3675)\n"
     ]
    }
   ],
   "source": [
    "decoder = Decoder(vocab_tar_size, embedding_dim, units, BATCH_SIZE)\n",
    "\n",
    "sample_decoder_output, _, _ = decoder(tf.random.uniform((BATCH_SIZE, 1)),\n",
    "                                      sample_hidden, sample_output)\n",
    "\n",
    "print ('Decoder output shape: (batch_size, vocab size) {}'.format(sample_decoder_output.shape))"
   ]
  },
  {
   "cell_type": "code",
   "execution_count": 21,
   "metadata": {},
   "outputs": [],
   "source": [
    "optimizer = tf.keras.optimizers.Adam()\n",
    "loss_object = tf.keras.losses.SparseCategoricalCrossentropy(\n",
    "    from_logits=True, reduction='none')\n",
    "\n",
    "def loss_function(real, pred):\n",
    "  mask = tf.math.logical_not(tf.math.equal(real, 0))\n",
    "  loss_ = loss_object(real, pred)\n",
    "\n",
    "  mask = tf.cast(mask, dtype=loss_.dtype)\n",
    "  loss_ *= mask\n",
    "\n",
    "  return tf.reduce_mean(loss_)"
   ]
  },
  {
   "cell_type": "code",
   "execution_count": 22,
   "metadata": {},
   "outputs": [],
   "source": [
    "checkpoint_dir = './training_checkpoints'\n",
    "checkpoint_prefix = os.path.join(checkpoint_dir, \"ckpt\")\n",
    "checkpoint = tf.train.Checkpoint(optimizer=optimizer,\n",
    "                                 encoder=encoder,\n",
    "                                 decoder=decoder)"
   ]
  },
  {
   "cell_type": "code",
   "execution_count": 23,
   "metadata": {},
   "outputs": [],
   "source": [
    "@tf.function\n",
    "def train_step(inp, targ, enc_hidden):\n",
    "  loss = 0\n",
    "\n",
    "  with tf.GradientTape() as tape:\n",
    "    enc_output, enc_hidden = encoder(inp, enc_hidden)\n",
    "\n",
    "    dec_hidden = enc_hidden\n",
    "\n",
    "    dec_input = tf.expand_dims([targ_lang.word_index['<start>']] * BATCH_SIZE, 1)\n",
    "\n",
    "    # Teacher forcing - feeding the target as the next input\n",
    "    for t in range(1, targ.shape[1]):\n",
    "      # passing enc_output to the decoder\n",
    "      predictions, dec_hidden, _ = decoder(dec_input, dec_hidden, enc_output)\n",
    "\n",
    "      loss += loss_function(targ[:, t], predictions)\n",
    "\n",
    "      # using teacher forcing\n",
    "      dec_input = tf.expand_dims(targ[:, t], 1)\n",
    "\n",
    "  batch_loss = (loss / int(targ.shape[1]))\n",
    "\n",
    "  variables = encoder.trainable_variables + decoder.trainable_variables\n",
    "\n",
    "  gradients = tape.gradient(loss, variables)\n",
    "\n",
    "  optimizer.apply_gradients(zip(gradients, variables))\n",
    "\n",
    "  return batch_loss"
   ]
  },
  {
   "cell_type": "code",
   "execution_count": 24,
   "metadata": {},
   "outputs": [
    {
     "name": "stdout",
     "output_type": "stream",
     "text": [
      "Epoch 1 Batch 0 Loss 1.3675\n",
      "Epoch 1 Loss 0.8772\n",
      "Time taken for 1 epoch 213.25207805633545 sec\n",
      "\n",
      "Epoch 2 Batch 0 Loss 0.8314\n",
      "Epoch 2 Loss 0.7187\n",
      "Time taken for 1 epoch 36.97775840759277 sec\n",
      "\n",
      "Epoch 3 Batch 0 Loss 0.6204\n",
      "Epoch 3 Loss 0.6099\n",
      "Time taken for 1 epoch 36.257978439331055 sec\n",
      "\n",
      "Epoch 4 Batch 0 Loss 0.4978\n",
      "Epoch 4 Loss 0.5578\n",
      "Time taken for 1 epoch 40.56721878051758 sec\n",
      "\n",
      "Epoch 5 Batch 0 Loss 0.5173\n",
      "Epoch 5 Loss 0.5172\n",
      "Time taken for 1 epoch 41.11597180366516 sec\n",
      "\n",
      "Epoch 6 Batch 0 Loss 0.5199\n",
      "Epoch 6 Loss 0.4871\n",
      "Time taken for 1 epoch 50.474605560302734 sec\n",
      "\n",
      "Epoch 7 Batch 0 Loss 0.4891\n",
      "Epoch 7 Loss 0.4678\n",
      "Time taken for 1 epoch 50.82483172416687 sec\n",
      "\n",
      "Epoch 8 Batch 0 Loss 0.4967\n",
      "Epoch 8 Loss 0.4543\n",
      "Time taken for 1 epoch 47.983208894729614 sec\n",
      "\n",
      "Epoch 9 Batch 0 Loss 0.4523\n",
      "Epoch 9 Loss 0.4420\n",
      "Time taken for 1 epoch 48.12947106361389 sec\n",
      "\n",
      "Epoch 10 Batch 0 Loss 0.3979\n",
      "Epoch 10 Loss 0.4248\n",
      "Time taken for 1 epoch 51.3885543346405 sec\n",
      "\n",
      "Epoch 11 Batch 0 Loss 0.3973\n",
      "Epoch 11 Loss 0.4039\n",
      "Time taken for 1 epoch 55.90937614440918 sec\n",
      "\n",
      "Epoch 12 Batch 0 Loss 0.4067\n",
      "Epoch 12 Loss 0.3878\n",
      "Time taken for 1 epoch 61.73542928695679 sec\n",
      "\n",
      "Epoch 13 Batch 0 Loss 0.3594\n",
      "Epoch 13 Loss 0.3687\n",
      "Time taken for 1 epoch 62.36048340797424 sec\n",
      "\n",
      "Epoch 14 Batch 0 Loss 0.3706\n",
      "Epoch 14 Loss 0.3560\n",
      "Time taken for 1 epoch 67.20530891418457 sec\n",
      "\n",
      "Epoch 15 Batch 0 Loss 0.3364\n",
      "Epoch 15 Loss 0.3451\n",
      "Time taken for 1 epoch 61.14565443992615 sec\n",
      "\n",
      "Epoch 16 Batch 0 Loss 0.3159\n",
      "Epoch 16 Loss 0.3371\n",
      "Time taken for 1 epoch 66.84897041320801 sec\n",
      "\n",
      "Epoch 17 Batch 0 Loss 0.3533\n",
      "Epoch 17 Loss 0.3306\n",
      "Time taken for 1 epoch 76.14414286613464 sec\n",
      "\n",
      "Epoch 18 Batch 0 Loss 0.3068\n",
      "Epoch 18 Loss 0.3245\n",
      "Time taken for 1 epoch 73.4290189743042 sec\n",
      "\n",
      "Epoch 19 Batch 0 Loss 0.2858\n",
      "Epoch 19 Loss 0.3192\n",
      "Time taken for 1 epoch 70.7234570980072 sec\n",
      "\n",
      "Epoch 20 Batch 0 Loss 0.2889\n",
      "Epoch 20 Loss 0.3141\n",
      "Time taken for 1 epoch 79.76695847511292 sec\n",
      "\n",
      "Epoch 21 Batch 0 Loss 0.2881\n",
      "Epoch 21 Loss 0.3100\n",
      "Time taken for 1 epoch 78.08704328536987 sec\n",
      "\n",
      "Epoch 22 Batch 0 Loss 0.3251\n",
      "Epoch 22 Loss 0.3056\n",
      "Time taken for 1 epoch 80.94024181365967 sec\n",
      "\n",
      "Epoch 23 Batch 0 Loss 0.2832\n",
      "Epoch 23 Loss 0.3022\n",
      "Time taken for 1 epoch 79.07748818397522 sec\n",
      "\n",
      "Epoch 24 Batch 0 Loss 0.3077\n",
      "Epoch 24 Loss 0.2982\n",
      "Time taken for 1 epoch 83.42060446739197 sec\n",
      "\n",
      "Epoch 25 Batch 0 Loss 0.2679\n",
      "Epoch 25 Loss 0.2955\n",
      "Time taken for 1 epoch 81.51484870910645 sec\n",
      "\n",
      "Epoch 26 Batch 0 Loss 0.2995\n",
      "Epoch 26 Loss 0.2920\n",
      "Time taken for 1 epoch 84.5509614944458 sec\n",
      "\n",
      "Epoch 27 Batch 0 Loss 0.2707\n",
      "Epoch 27 Loss 0.2891\n",
      "Time taken for 1 epoch 82.12986445426941 sec\n",
      "\n",
      "Epoch 28 Batch 0 Loss 0.2773\n",
      "Epoch 28 Loss 0.2864\n",
      "Time taken for 1 epoch 86.1717677116394 sec\n",
      "\n",
      "Epoch 29 Batch 0 Loss 0.2651\n",
      "Epoch 29 Loss 0.2838\n",
      "Time taken for 1 epoch 88.42357420921326 sec\n",
      "\n",
      "Epoch 30 Batch 0 Loss 0.2234\n",
      "Epoch 30 Loss 0.2806\n",
      "Time taken for 1 epoch 91.69440770149231 sec\n",
      "\n",
      "Epoch 31 Batch 0 Loss 0.3163\n",
      "Epoch 31 Loss 0.2781\n",
      "Time taken for 1 epoch 105.30289721488953 sec\n",
      "\n",
      "Epoch 32 Batch 0 Loss 0.2819\n",
      "Epoch 32 Loss 0.2754\n",
      "Time taken for 1 epoch 102.72135376930237 sec\n",
      "\n",
      "Epoch 33 Batch 0 Loss 0.2805\n",
      "Epoch 33 Loss 0.2730\n",
      "Time taken for 1 epoch 86.40241599082947 sec\n",
      "\n",
      "Epoch 34 Batch 0 Loss 0.2780\n",
      "Epoch 34 Loss 0.2700\n",
      "Time taken for 1 epoch 96.2539632320404 sec\n",
      "\n",
      "Epoch 35 Batch 0 Loss 0.2930\n",
      "Epoch 35 Loss 0.2670\n",
      "Time taken for 1 epoch 92.05231404304504 sec\n",
      "\n",
      "Epoch 36 Batch 0 Loss 0.2882\n",
      "Epoch 36 Loss 0.2650\n",
      "Time taken for 1 epoch 95.65641927719116 sec\n",
      "\n",
      "Epoch 37 Batch 0 Loss 0.2604\n",
      "Epoch 37 Loss 0.2621\n",
      "Time taken for 1 epoch 90.29478096961975 sec\n",
      "\n",
      "Epoch 38 Batch 0 Loss 0.2724\n",
      "Epoch 38 Loss 0.2594\n",
      "Time taken for 1 epoch 91.32199954986572 sec\n",
      "\n",
      "Epoch 39 Batch 0 Loss 0.2394\n",
      "Epoch 39 Loss 0.2564\n",
      "Time taken for 1 epoch 92.36404585838318 sec\n",
      "\n",
      "Epoch 40 Batch 0 Loss 0.2524\n",
      "Epoch 40 Loss 0.2545\n",
      "Time taken for 1 epoch 98.31708550453186 sec\n",
      "\n",
      "Epoch 41 Batch 0 Loss 0.2268\n",
      "Epoch 41 Loss 0.2516\n",
      "Time taken for 1 epoch 92.15502285957336 sec\n",
      "\n",
      "Epoch 42 Batch 0 Loss 0.2534\n",
      "Epoch 42 Loss 0.2492\n",
      "Time taken for 1 epoch 97.92942094802856 sec\n",
      "\n",
      "Epoch 43 Batch 0 Loss 0.2939\n",
      "Epoch 43 Loss 0.2468\n",
      "Time taken for 1 epoch 90.20807647705078 sec\n",
      "\n",
      "Epoch 44 Batch 0 Loss 0.2417\n",
      "Epoch 44 Loss 0.2430\n",
      "Time taken for 1 epoch 95.98723602294922 sec\n",
      "\n",
      "Epoch 45 Batch 0 Loss 0.2196\n",
      "Epoch 45 Loss 0.2403\n",
      "Time taken for 1 epoch 92.3493423461914 sec\n",
      "\n",
      "Epoch 46 Batch 0 Loss 0.2166\n",
      "Epoch 46 Loss 0.2370\n",
      "Time taken for 1 epoch 98.94885516166687 sec\n",
      "\n",
      "Epoch 47 Batch 0 Loss 0.2556\n",
      "Epoch 47 Loss 0.2339\n",
      "Time taken for 1 epoch 98.33610510826111 sec\n",
      "\n",
      "Epoch 48 Batch 0 Loss 0.2306\n",
      "Epoch 48 Loss 0.2307\n",
      "Time taken for 1 epoch 95.68394207954407 sec\n",
      "\n",
      "Epoch 49 Batch 0 Loss 0.2184\n",
      "Epoch 49 Loss 0.2310\n",
      "Time taken for 1 epoch 98.75668597221375 sec\n",
      "\n",
      "Epoch 50 Batch 0 Loss 0.2372\n",
      "Epoch 50 Loss 0.2247\n",
      "Time taken for 1 epoch 137.97206783294678 sec\n",
      "\n",
      "Epoch 51 Batch 0 Loss 0.2386\n",
      "Epoch 51 Loss 0.2199\n",
      "Time taken for 1 epoch 136.27779293060303 sec\n",
      "\n",
      "Epoch 52 Batch 0 Loss 0.2290\n",
      "Epoch 52 Loss 0.2166\n",
      "Time taken for 1 epoch 161.0773220062256 sec\n",
      "\n",
      "Epoch 53 Batch 0 Loss 0.1942\n",
      "Epoch 53 Loss 0.2130\n",
      "Time taken for 1 epoch 93.76560044288635 sec\n",
      "\n",
      "Epoch 54 Batch 0 Loss 0.2214\n",
      "Epoch 54 Loss 0.2078\n",
      "Time taken for 1 epoch 94.61173987388611 sec\n",
      "\n",
      "Epoch 55 Batch 0 Loss 0.1864\n",
      "Epoch 55 Loss 0.2043\n",
      "Time taken for 1 epoch 101.78779482841492 sec\n",
      "\n",
      "Epoch 56 Batch 0 Loss 0.1968\n",
      "Epoch 56 Loss 0.2014\n",
      "Time taken for 1 epoch 92.41948652267456 sec\n",
      "\n",
      "Epoch 57 Batch 0 Loss 0.1783\n",
      "Epoch 57 Loss 0.2004\n",
      "Time taken for 1 epoch 83.75718998908997 sec\n",
      "\n",
      "Epoch 58 Batch 0 Loss 0.1962\n",
      "Epoch 58 Loss 0.1931\n",
      "Time taken for 1 epoch 86.44759583473206 sec\n",
      "\n",
      "Epoch 59 Batch 0 Loss 0.1606\n",
      "Epoch 59 Loss 0.1875\n",
      "Time taken for 1 epoch 86.47160792350769 sec\n",
      "\n",
      "Epoch 60 Batch 0 Loss 0.2002\n",
      "Epoch 60 Loss 0.1827\n",
      "Time taken for 1 epoch 87.43513131141663 sec\n",
      "\n",
      "Epoch 61 Batch 0 Loss 0.1829\n",
      "Epoch 61 Loss 0.1784\n",
      "Time taken for 1 epoch 86.06579637527466 sec\n",
      "\n",
      "Epoch 62 Batch 0 Loss 0.1880\n",
      "Epoch 62 Loss 0.1727\n",
      "Time taken for 1 epoch 89.6547794342041 sec\n",
      "\n",
      "Epoch 63 Batch 0 Loss 0.1479\n",
      "Epoch 63 Loss 0.1707\n",
      "Time taken for 1 epoch 95.26161813735962 sec\n",
      "\n",
      "Epoch 64 Batch 0 Loss 0.1798\n",
      "Epoch 64 Loss 0.1645\n",
      "Time taken for 1 epoch 112.86651396751404 sec\n",
      "\n",
      "Epoch 65 Batch 0 Loss 0.1600\n",
      "Epoch 65 Loss 0.1586\n",
      "Time taken for 1 epoch 126.63475036621094 sec\n",
      "\n",
      "Epoch 66 Batch 0 Loss 0.1459\n",
      "Epoch 66 Loss 0.1543\n",
      "Time taken for 1 epoch 165.96374607086182 sec\n",
      "\n",
      "Epoch 67 Batch 0 Loss 0.1506\n",
      "Epoch 67 Loss 0.1499\n",
      "Time taken for 1 epoch 114.72760581970215 sec\n",
      "\n",
      "Epoch 68 Batch 0 Loss 0.1394\n",
      "Epoch 68 Loss 0.1460\n",
      "Time taken for 1 epoch 110.68301701545715 sec\n",
      "\n",
      "Epoch 69 Batch 0 Loss 0.1343\n",
      "Epoch 69 Loss 0.1397\n",
      "Time taken for 1 epoch 87.42807912826538 sec\n",
      "\n",
      "Epoch 70 Batch 0 Loss 0.1241\n",
      "Epoch 70 Loss 0.1353\n",
      "Time taken for 1 epoch 152.5525975227356 sec\n",
      "\n",
      "Epoch 71 Batch 0 Loss 0.1229\n",
      "Epoch 71 Loss 0.1320\n",
      "Time taken for 1 epoch 267.2284896373749 sec\n",
      "\n",
      "Epoch 72 Batch 0 Loss 0.1377\n",
      "Epoch 72 Loss 0.1266\n",
      "Time taken for 1 epoch 170.12360191345215 sec\n",
      "\n",
      "Epoch 73 Batch 0 Loss 0.1219\n",
      "Epoch 73 Loss 0.1222\n",
      "Time taken for 1 epoch 210.37107586860657 sec\n",
      "\n",
      "Epoch 74 Batch 0 Loss 0.1182\n",
      "Epoch 74 Loss 0.1173\n",
      "Time taken for 1 epoch 189.88393902778625 sec\n",
      "\n",
      "Epoch 75 Batch 0 Loss 0.1024\n",
      "Epoch 75 Loss 0.1141\n",
      "Time taken for 1 epoch 259.111709356308 sec\n",
      "\n",
      "Epoch 76 Batch 0 Loss 0.1111\n",
      "Epoch 76 Loss 0.1092\n",
      "Time taken for 1 epoch 257.5463252067566 sec\n",
      "\n",
      "Epoch 77 Batch 0 Loss 0.1080\n",
      "Epoch 77 Loss 0.1064\n",
      "Time taken for 1 epoch 251.62816452980042 sec\n",
      "\n",
      "Epoch 78 Batch 0 Loss 0.1026\n",
      "Epoch 78 Loss 0.1050\n",
      "Time taken for 1 epoch 166.19142174720764 sec\n",
      "\n",
      "Epoch 79 Batch 0 Loss 0.0960\n",
      "Epoch 79 Loss 0.0982\n",
      "Time taken for 1 epoch 128.61190795898438 sec\n",
      "\n",
      "Epoch 80 Batch 0 Loss 0.0885\n",
      "Epoch 80 Loss 0.0955\n",
      "Time taken for 1 epoch 119.03061962127686 sec\n",
      "\n",
      "Epoch 81 Batch 0 Loss 0.0941\n",
      "Epoch 81 Loss 0.0907\n",
      "Time taken for 1 epoch 127.51109433174133 sec\n",
      "\n",
      "Epoch 82 Batch 0 Loss 0.0848\n",
      "Epoch 82 Loss 0.0915\n",
      "Time taken for 1 epoch 304.26086831092834 sec\n",
      "\n",
      "Epoch 83 Batch 0 Loss 0.1057\n",
      "Epoch 83 Loss 0.0919\n",
      "Time taken for 1 epoch 273.08940839767456 sec\n",
      "\n",
      "Epoch 84 Batch 0 Loss 0.0757\n",
      "Epoch 84 Loss 0.0825\n",
      "Time taken for 1 epoch 289.41813683509827 sec\n",
      "\n",
      "Epoch 85 Batch 0 Loss 0.0735\n",
      "Epoch 85 Loss 0.0781\n",
      "Time taken for 1 epoch 191.37792897224426 sec\n",
      "\n",
      "Epoch 86 Batch 0 Loss 0.0656\n",
      "Epoch 86 Loss 0.0750\n",
      "Time taken for 1 epoch 109.09304404258728 sec\n",
      "\n",
      "Epoch 87 Batch 0 Loss 0.0650\n",
      "Epoch 87 Loss 0.0718\n",
      "Time taken for 1 epoch 117.99254655838013 sec\n",
      "\n",
      "Epoch 88 Batch 0 Loss 0.0767\n",
      "Epoch 88 Loss 0.0693\n",
      "Time taken for 1 epoch 101.72474765777588 sec\n",
      "\n",
      "Epoch 89 Batch 0 Loss 0.0702\n",
      "Epoch 89 Loss 0.0673\n",
      "Time taken for 1 epoch 102.30838632583618 sec\n",
      "\n",
      "Epoch 90 Batch 0 Loss 0.0634\n",
      "Epoch 90 Loss 0.0649\n",
      "Time taken for 1 epoch 195.5997438430786 sec\n",
      "\n",
      "Epoch 91 Batch 0 Loss 0.0594\n",
      "Epoch 91 Loss 0.0624\n",
      "Time taken for 1 epoch 167.6948218345642 sec\n",
      "\n",
      "Epoch 92 Batch 0 Loss 0.0556\n",
      "Epoch 92 Loss 0.0598\n",
      "Time taken for 1 epoch 123.28888082504272 sec\n",
      "\n",
      "Epoch 93 Batch 0 Loss 0.0616\n",
      "Epoch 93 Loss 0.0579\n",
      "Time taken for 1 epoch 120.7069799900055 sec\n",
      "\n",
      "Epoch 94 Batch 0 Loss 0.0569\n",
      "Epoch 94 Loss 0.0561\n",
      "Time taken for 1 epoch 110.01277160644531 sec\n",
      "\n",
      "Epoch 95 Batch 0 Loss 0.0431\n",
      "Epoch 95 Loss 0.0535\n",
      "Time taken for 1 epoch 116.52608132362366 sec\n",
      "\n",
      "Epoch 96 Batch 0 Loss 0.0499\n",
      "Epoch 96 Loss 0.0539\n",
      "Time taken for 1 epoch 102.72050833702087 sec\n",
      "\n",
      "Epoch 97 Batch 0 Loss 0.0558\n",
      "Epoch 97 Loss 0.0511\n",
      "Time taken for 1 epoch 82.50024175643921 sec\n",
      "\n",
      "Epoch 98 Batch 0 Loss 0.0484\n",
      "Epoch 98 Loss 0.0485\n",
      "Time taken for 1 epoch 82.11581254005432 sec\n",
      "\n",
      "Epoch 99 Batch 0 Loss 0.0479\n",
      "Epoch 99 Loss 0.0469\n",
      "Time taken for 1 epoch 80.43685102462769 sec\n",
      "\n",
      "Epoch 100 Batch 0 Loss 0.0468\n",
      "Epoch 100 Loss 0.0442\n",
      "Time taken for 1 epoch 82.37959122657776 sec\n",
      "\n"
     ]
    }
   ],
   "source": [
    "EPOCHS = 100\n",
    "\n",
    "for epoch in range(EPOCHS):\n",
    "  start = time.time()\n",
    "\n",
    "  enc_hidden = encoder.initialize_hidden_state()\n",
    "  total_loss = 0\n",
    "\n",
    "  for (batch, (inp, targ)) in enumerate(dataset.take(steps_per_epoch)):\n",
    "    batch_loss = train_step(inp, targ, enc_hidden)\n",
    "    total_loss += batch_loss\n",
    "\n",
    "    if batch % 100 == 0:\n",
    "      print('Epoch {} Batch {} Loss {:.4f}'.format(epoch + 1,\n",
    "                                                   batch,\n",
    "                                                   batch_loss.numpy()))\n",
    "  # saving (checkpoint) the model every 2 epochs\n",
    "  if (epoch + 1) % 2 == 0:\n",
    "    checkpoint.save(file_prefix = checkpoint_prefix)\n",
    "\n",
    "  print('Epoch {} Loss {:.4f}'.format(epoch + 1,\n",
    "                                      total_loss / steps_per_epoch))\n",
    "  print('Time taken for 1 epoch {} sec\\n'.format(time.time() - start))"
   ]
  },
  {
   "cell_type": "code",
   "execution_count": 25,
   "metadata": {},
   "outputs": [],
   "source": [
    "def evaluate(sentence):\n",
    "  attention_plot = np.zeros((max_length_targ, max_length_inp))\n",
    "\n",
    "  sentence = preprocess_sentence(sentence)\n",
    "\n",
    "  inputs = [inp_lang.word_index[i] for i in sentence.split(' ')]\n",
    "  inputs = tf.keras.preprocessing.sequence.pad_sequences([inputs],\n",
    "                                                         maxlen=max_length_inp,\n",
    "                                                         padding='post')\n",
    "  inputs = tf.convert_to_tensor(inputs)\n",
    "\n",
    "  result = ''\n",
    "\n",
    "  hidden = [tf.zeros((1, units))]\n",
    "  enc_out, enc_hidden = encoder(inputs, hidden)\n",
    "\n",
    "  dec_hidden = enc_hidden\n",
    "  dec_input = tf.expand_dims([targ_lang.word_index['<start>']], 0)\n",
    "\n",
    "  for t in range(max_length_targ):\n",
    "    predictions, dec_hidden, attention_weights = decoder(dec_input,\n",
    "                                                         dec_hidden,\n",
    "                                                         enc_out)\n",
    "\n",
    "    # storing the attention weights to plot later on\n",
    "    attention_weights = tf.reshape(attention_weights, (-1, ))\n",
    "    attention_plot[t] = attention_weights.numpy()\n",
    "\n",
    "    predicted_id = tf.argmax(predictions[0]).numpy()\n",
    "\n",
    "    result += targ_lang.index_word[predicted_id] + ' '\n",
    "\n",
    "    if targ_lang.index_word[predicted_id] == '<end>':\n",
    "      return result, sentence, attention_plot\n",
    "\n",
    "    # the predicted ID is fed back into the model\n",
    "    dec_input = tf.expand_dims([predicted_id], 0)\n",
    "\n",
    "  return result, sentence, attention_plot"
   ]
  },
  {
   "cell_type": "code",
   "execution_count": 26,
   "metadata": {},
   "outputs": [],
   "source": [
    "# function for plotting the attention weights\n",
    "def plot_attention(attention, sentence, predicted_sentence):\n",
    "  fig = plt.figure(figsize=(10,10))\n",
    "  ax = fig.add_subplot(1, 1, 1)\n",
    "  ax.matshow(attention, cmap='viridis')\n",
    "\n",
    "  fontdict = {'fontsize': 14}\n",
    "\n",
    "  ax.set_xticklabels([''] + sentence, fontdict=fontdict, rotation=90)\n",
    "  ax.set_yticklabels([''] + predicted_sentence, fontdict=fontdict)\n",
    "\n",
    "  ax.xaxis.set_major_locator(ticker.MultipleLocator(1))\n",
    "  ax.yaxis.set_major_locator(ticker.MultipleLocator(1))\n",
    "\n",
    "  plt.show()"
   ]
  },
  {
   "cell_type": "code",
   "execution_count": 27,
   "metadata": {},
   "outputs": [],
   "source": [
    "def translate(sentence):\n",
    "  result, sentence, attention_plot = evaluate(sentence)\n",
    "\n",
    "  print('Input: %s' % (sentence))\n",
    "  print('Predicted translation: {}'.format(result))\n",
    "\n",
    "  attention_plot = attention_plot[:len(result.split(' ')), :len(sentence.split(' '))]\n",
    "  plot_attention(attention_plot, sentence.split(' '), result.split(' '))"
   ]
  },
  {
   "cell_type": "code",
   "execution_count": 28,
   "metadata": {},
   "outputs": [
    {
     "data": {
      "text/plain": [
       "<tensorflow.python.training.tracking.util.CheckpointLoadStatus at 0x1d2f3f56908>"
      ]
     },
     "execution_count": 28,
     "metadata": {},
     "output_type": "execute_result"
    }
   ],
   "source": [
    "# restoring the latest checkpoint in checkpoint_dir\n",
    "checkpoint.restore(tf.train.latest_checkpoint(checkpoint_dir))"
   ]
  },
  {
   "cell_type": "code",
   "execution_count": 29,
   "metadata": {},
   "outputs": [
    {
     "name": "stdout",
     "output_type": "stream",
     "text": [
      "Input: <start> give me all the names <end>\n",
      "Predicted translation: select name from member <end> \n"
     ]
    },
    {
     "data": {
      "image/png": "[encoded data removed]",
      "text/plain": [
       "<Figure size 720x720 with 1 Axes>"
      ]
     },
     "metadata": {
      "needs_background": "light"
     },
     "output_type": "display_data"
    }
   ],
   "source": [
    "translate(u'GIVE ME ALL THE NAMES')"
   ]
  },
  {
   "cell_type": "code",
   "execution_count": 30,
   "metadata": {},
   "outputs": [
    {
     "name": "stdout",
     "output_type": "stream",
     "text": [
      "Input: <start> how many students are there <end>\n",
      "Predicted translation: select count(*) from student <end> \n"
     ]
    },
    {
     "data": {
      "image/png": "[encoded data removed]",
      "text/plain": [
       "<Figure size 720x720 with 1 Axes>"
      ]
     },
     "metadata": {
      "needs_background": "light"
     },
     "output_type": "display_data"
    }
   ],
   "source": [
    "translate(u'HOW MANY STUDENTS ARE THERE')"
   ]
  },
  {
   "cell_type": "code",
   "execution_count": 31,
   "metadata": {},
   "outputs": [
    {
     "name": "stdout",
     "output_type": "stream",
     "text": [
      "Input: <start> how many students have age above 10 <end>\n",
      "Predicted translation: select count(*) from student where age > 20 <end> \n"
     ]
    },
    {
     "data": {
      "image/png": "[encoded data removed]",
      "text/plain": [
       "<Figure size 720x720 with 1 Axes>"
      ]
     },
     "metadata": {
      "needs_background": "light"
     },
     "output_type": "display_data"
    }
   ],
   "source": [
    "translate(u'how many students have age above 10')"
   ]
  },
  {
   "cell_type": "code",
   "execution_count": 32,
   "metadata": {},
   "outputs": [
    {
     "name": "stdout",
     "output_type": "stream",
     "text": [
      "Input: <start> what is the maximum age <end>\n",
      "Predicted translation: select min(age) from captain <end> \n"
     ]
    },
    {
     "data": {
      "image/png": "[encoded data removed]",
      "text/plain": [
       "<Figure size 720x720 with 1 Axes>"
      ]
     },
     "metadata": {
      "needs_background": "light"
     },
     "output_type": "display_data"
    }
   ],
   "source": [
    "translate(u'WHAT IS THE MAXIMUM AGE')"
   ]
  },
  {
   "cell_type": "code",
   "execution_count": 33,
   "metadata": {},
   "outputs": [
    {
     "name": "stdout",
     "output_type": "stream",
     "text": [
      "Input: <start> how many heads of the departments are older than 56 ? <end>\n",
      "Predicted translation: select count(*) from students where city = (select min(age) from employee where city = (select min(age) from employee where city = (select min(age) from employee where city = (select min(age) from employee where city = (select min(age) from employee where city = (select min(age) from employee where city = (select min(age) from employee where city = (select min(age) from employee where city = (select min(age) from employee where city = (select min(age) from employee where city = (select min(age) from employee where city = (select min(age) from employee where city = (select min(age) from employee where city = (select min(age) from employee where city = (select min(age) from employee where city = (select min(age) from employee where city = (select min(age) from employee where city = (select min(age) from employee \n"
     ]
    },
    {
     "data": {
      "image/png": "[encoded data removed]",
      "text/plain": [
       "<Figure size 720x720 with 1 Axes>"
      ]
     },
     "metadata": {
      "needs_background": "light"
     },
     "output_type": "display_data"
    }
   ],
   "source": [
    "translate(u'How many heads of the departments are older than 56 ?')"
   ]
  },
  {
   "cell_type": "code",
   "execution_count": 34,
   "metadata": {},
   "outputs": [
    {
     "name": "stdout",
     "output_type": "stream",
     "text": [
      "Input: <start> list the name of departments <end>\n",
      "Predicted translation: select distinct staff_first_name , budget_in_billions from department <end> \n"
     ]
    },
    {
     "data": {
      "image/png": "[encoded data removed]",
      "text/plain": [
       "<Figure size 720x720 with 1 Axes>"
      ]
     },
     "metadata": {
      "needs_background": "light"
     },
     "output_type": "display_data"
    }
   ],
   "source": [
    "translate(u'LIST THE NAME OF DEPARTMENTS')"
   ]
  },
  {
   "cell_type": "code",
   "execution_count": 35,
   "metadata": {},
   "outputs": [
    {
     "name": "stdout",
     "output_type": "stream",
     "text": [
      "Input: <start> what is the average number of employees <end>\n",
      "Predicted translation: select avg(followers) from department <end> \n"
     ]
    },
    {
     "data": {
      "image/png": "[encoded data removed]",
      "text/plain": [
       "<Figure size 720x720 with 1 Axes>"
      ]
     },
     "metadata": {
      "needs_background": "light"
     },
     "output_type": "display_data"
    }
   ],
   "source": [
    "translate(u'WHAT IS THE AVERAGE NUMBER OF EMPLOYEES')"
   ]
  },
  {
   "cell_type": "code",
   "execution_count": 36,
   "metadata": {},
   "outputs": [
    {
     "name": "stdout",
     "output_type": "stream",
     "text": [
      "Input: <start> what are the distinct names of employees ? <end>\n",
      "Predicted translation: select distinct name from actor <end> \n"
     ]
    },
    {
     "data": {
      "image/png": "[encoded data removed]",
      "text/plain": [
       "<Figure size 720x720 with 1 Axes>"
      ]
     },
     "metadata": {
      "needs_background": "light"
     },
     "output_type": "display_data"
    }
   ],
   "source": [
    "translate(u'WHAT ARE THE DISTINCT NAMES OF EMPLOYEES?')"
   ]
  }
 ],
 "metadata": {
  "kernelspec": {
   "display_name": "Python 3",
   "language": "python",
   "name": "python3"
  },
  "language_info": {
   "codemirror_mode": {
    "name": "ipython",
    "version": 3
   },
   "file_extension": ".py",
   "mimetype": "text/x-python",
   "name": "python",
   "nbconvert_exporter": "python",
   "pygments_lexer": "ipython3",
   "version": "3.7.4"
  }
 },
 "nbformat": 4,
 "nbformat_minor": 2
}
